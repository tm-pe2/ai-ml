{
 "cells": [
  {
   "cell_type": "code",
   "execution_count": null,
   "metadata": {
    "_cell_guid": "b1076dfc-b9ad-4769-8c92-a6c4dae69d19",
    "_uuid": "8f2839f25d086af736a60e9eeb907d3b93b6e0e5",
    "execution": {
     "iopub.execute_input": "2022-02-24T09:15:31.931114Z",
     "iopub.status.busy": "2022-02-24T09:15:31.93072Z",
     "iopub.status.idle": "2022-02-24T09:15:31.951172Z",
     "shell.execute_reply": "2022-02-24T09:15:31.95018Z",
     "shell.execute_reply.started": "2022-02-24T09:15:31.931036Z"
    }
   },
   "outputs": [],
   "source": [
    "# This Python 3 environment comes with many helpful analytics libraries installed\n",
    "# It is defined by the kaggle/python Docker image: https://github.com/kaggle/docker-python\n",
    "# For example, here's several helpful packages to load\n",
    "\n",
    "import numpy as np # linear algebra\n",
    "import pandas as pd # data processing, CSV file I/O (e.g. pd.read_csv)\n",
    "\n",
    "# Input data files are available in the read-only \"../input/\" directory\n",
    "# For example, running this (by clicking run or pressing Shift+Enter) will list all files under the input directory\n",
    "\n",
    "import os\n",
    "for dirname, _, filenames in os.walk('/kaggle/input'):\n",
    "    for filename in filenames:\n",
    "        print(os.path.join(dirname, filename))\n",
    "\n",
    "# You can write up to 20GB to the current directory (/kaggle/working/) that gets preserved as output when you create a version using \"Save & Run All\" \n",
    "# You can also write temporary files to /kaggle/temp/, but they won't be saved outside of the current session"
   ]
  },
  {
   "cell_type": "markdown",
   "metadata": {},
   "source": [
    "<a id=\"table-of-content\"></a>\n",
    "# Table of Content\n",
    "### [1. Import Libraries](#import-libraries)\n",
    "### [2. Loading Data](#loading-data)\n",
    "### [3. Data Exploration](#data-exploration)\n",
    "- [Correlation Matrix](#correlation-matrix)\n",
    "- [Data Distribution](#data-distribution)\n",
    "- [Divide box plot into \"No Failure\" & \"Failure\"](#divide-box-plot)\n",
    "- [Rename Columns](#rename-columns)\n",
    "- [Removes useless & correlated features](#removes-features)\n",
    "- [Pair Plot](#pair-plot)\n",
    "\n",
    "### [4. Imbalanced Data](#imbalanced-data)\n",
    "### [5. One Hot Encoding](#encoding)\n",
    "- [get_dummies approach](#get-dummies)\n",
    "\n",
    "### [6. Train-Test Split](#train-test-split)\n",
    "### [7. Classify Imbalanced Data](#classify-imbalanced-data)\n",
    "### [8. Resampling Data + Modelling](#resampling-data)\n",
    "- [Random Forest Classifier](#random-forest)\n",
    "- [Gradient Boosting Classifier](#GBT)\n",
    "- [XGBoost](#xgboost)\n",
    "\n",
    "### [9. Conclusion](#conclusion)\n",
    "### [Go to end](#end)"
   ]
  },
  {
   "cell_type": "markdown",
   "metadata": {},
   "source": [
    "<a id=\"import-libraries\"></a>\n",
    "# Import Libraries"
   ]
  },
  {
   "cell_type": "code",
   "execution_count": null,
   "metadata": {
    "execution": {
     "iopub.execute_input": "2022-02-24T09:15:31.953973Z",
     "iopub.status.busy": "2022-02-24T09:15:31.953058Z",
     "iopub.status.idle": "2022-02-24T09:15:31.963935Z",
     "shell.execute_reply": "2022-02-24T09:15:31.962868Z",
     "shell.execute_reply.started": "2022-02-24T09:15:31.953936Z"
    }
   },
   "outputs": [],
   "source": [
    "import pandas as pd\n",
    "import imblearn\n",
    "import seaborn as sns\n",
    "sns.set_theme(style=\"darkgrid\")\n",
    "import matplotlib\n",
    "import matplotlib.pyplot as plt\n",
    "import numpy as np\n",
    "from collections import Counter\n",
    "from sklearn.preprocessing import OneHotEncoder\n",
    "from sklearn.model_selection import train_test_split\n",
    "from sklearn.model_selection import cross_validate\n",
    "from sklearn.metrics import classification_report\n",
    "from sklearn.ensemble import RandomForestClassifier, GradientBoostingClassifier\n",
    "from sklearn.metrics import confusion_matrix\n",
    "from sklearn.model_selection import cross_val_predict, cross_val_score, KFold, GridSearchCV\n",
    "from imblearn.pipeline import Pipeline, make_pipeline\n",
    "from imblearn.over_sampling import SMOTE "
   ]
  },
  {
   "cell_type": "markdown",
   "metadata": {},
   "source": [
    "<a id=\"loading-data\"></a>\n",
    "# Loading Data"
   ]
  },
  {
   "cell_type": "code",
   "execution_count": null,
   "metadata": {
    "execution": {
     "iopub.execute_input": "2022-02-24T09:15:31.966465Z",
     "iopub.status.busy": "2022-02-24T09:15:31.965461Z",
     "iopub.status.idle": "2022-02-24T09:15:32.029804Z",
     "shell.execute_reply": "2022-02-24T09:15:32.028692Z",
     "shell.execute_reply.started": "2022-02-24T09:15:31.966399Z"
    }
   },
   "outputs": [],
   "source": [
    "df = pd.read_csv('../input/machine-predictive-maintenance-classification/predictive_maintenance.csv')\n",
    "df.head()"
   ]
  },
  {
   "cell_type": "markdown",
   "metadata": {},
   "source": [
    "<a id=\"data-exploration\"></a>\n",
    "# Data Exploration"
   ]
  },
  {
   "cell_type": "code",
   "execution_count": null,
   "metadata": {
    "execution": {
     "iopub.execute_input": "2022-02-24T09:15:32.032073Z",
     "iopub.status.busy": "2022-02-24T09:15:32.031332Z",
     "iopub.status.idle": "2022-02-24T09:15:32.052722Z",
     "shell.execute_reply": "2022-02-24T09:15:32.051763Z",
     "shell.execute_reply.started": "2022-02-24T09:15:32.032033Z"
    }
   },
   "outputs": [],
   "source": [
    "df.info()"
   ]
  },
  {
   "cell_type": "code",
   "execution_count": null,
   "metadata": {
    "execution": {
     "iopub.execute_input": "2022-02-24T09:15:32.054308Z",
     "iopub.status.busy": "2022-02-24T09:15:32.054025Z",
     "iopub.status.idle": "2022-02-24T09:15:32.070139Z",
     "shell.execute_reply": "2022-02-24T09:15:32.069011Z",
     "shell.execute_reply.started": "2022-02-24T09:15:32.054282Z"
    }
   },
   "outputs": [],
   "source": [
    "df.nunique()"
   ]
  },
  {
   "cell_type": "markdown",
   "metadata": {},
   "source": [
    "**Findings:**\n",
    "1. There is no missing value in the data\n",
    "2. UDI and ProductID are unique for each instances\n"
   ]
  },
  {
   "cell_type": "code",
   "execution_count": null,
   "metadata": {
    "execution": {
     "iopub.execute_input": "2022-02-24T09:15:32.072075Z",
     "iopub.status.busy": "2022-02-24T09:15:32.071614Z",
     "iopub.status.idle": "2022-02-24T09:15:32.581777Z",
     "shell.execute_reply": "2022-02-24T09:15:32.580629Z",
     "shell.execute_reply.started": "2022-02-24T09:15:32.07204Z"
    }
   },
   "outputs": [],
   "source": [
    "plt.figure(figsize=(15,15))\n",
    "plt.subplot(2,1,1)\n",
    "pl = sns.countplot(y=df[\"Type\"])\n",
    "pl.set_title(\"Type (Frequency)\")\n",
    "pl.set(xlabel=None)\n",
    "for p in pl.patches:\n",
    "        percentage = p.get_width()\n",
    "        x = p.get_x() + p.get_width() + 0.02\n",
    "        y = p.get_y() + p.get_height()/2\n",
    "        pl.annotate(percentage, (x, y))\n",
    "plt.subplot(2,1,2)\n",
    "pl2 = sns.countplot(y=df[\"Failure Type\"])\n",
    "pl2.set_title(\"Failure Type (Frequency)\")\n",
    "pl2.set(xlabel=None)\n",
    "for p in pl2.patches:\n",
    "        percentage = p.get_width()\n",
    "        x = p.get_x() + p.get_width() + 0.02\n",
    "        y = p.get_y() + p.get_height()/2\n",
    "        pl2.annotate(percentage, (x, y))\n",
    "plt.show()"
   ]
  },
  {
   "cell_type": "markdown",
   "metadata": {},
   "source": [
    "<a id=\"correlation-matrix\"></a>\n",
    "## Correlation Matrix"
   ]
  },
  {
   "cell_type": "code",
   "execution_count": null,
   "metadata": {
    "execution": {
     "iopub.execute_input": "2022-02-24T09:15:32.583367Z",
     "iopub.status.busy": "2022-02-24T09:15:32.583131Z",
     "iopub.status.idle": "2022-02-24T09:15:33.177553Z",
     "shell.execute_reply": "2022-02-24T09:15:33.176619Z",
     "shell.execute_reply.started": "2022-02-24T09:15:32.583339Z"
    }
   },
   "outputs": [],
   "source": [
    "plt.figure(figsize=(10,10))\n",
    "pl = sns.heatmap(df.corr(), annot=True)\n",
    "pl.set_title(\"Correlation Matrix\")\n",
    "plt.show()"
   ]
  },
  {
   "cell_type": "markdown",
   "metadata": {},
   "source": [
    "We need to remove:\n",
    "1. (\"Torque \\[Nm\\]\" or \"Rotational speed \\[rpm\\]\")\n",
    "2. (\"Air temperature \\[K\\]\" or \"Process temperature \\[K\\]\")\n",
    "<br></br>\n",
    "to make this decision, I decided to view compare their data distribution against failure type."
   ]
  },
  {
   "cell_type": "code",
   "execution_count": null,
   "metadata": {
    "execution": {
     "iopub.execute_input": "2022-02-24T09:15:33.180061Z",
     "iopub.status.busy": "2022-02-24T09:15:33.179786Z",
     "iopub.status.idle": "2022-02-24T09:15:33.215051Z",
     "shell.execute_reply": "2022-02-24T09:15:33.21414Z",
     "shell.execute_reply.started": "2022-02-24T09:15:33.18003Z"
    }
   },
   "outputs": [],
   "source": [
    "df.describe()"
   ]
  },
  {
   "cell_type": "markdown",
   "metadata": {},
   "source": [
    "There might be outliers in \"Rotational speed \\[rpm]\", \"Torque [Nm]\", and \"Tool wear [min]\""
   ]
  },
  {
   "cell_type": "markdown",
   "metadata": {},
   "source": [
    "<a id=\"data-distribution\"></a>\n",
    "## Data Distribution"
   ]
  },
  {
   "cell_type": "code",
   "execution_count": null,
   "metadata": {
    "execution": {
     "iopub.execute_input": "2022-02-24T09:15:33.216936Z",
     "iopub.status.busy": "2022-02-24T09:15:33.21662Z",
     "iopub.status.idle": "2022-02-24T09:15:33.586692Z",
     "shell.execute_reply": "2022-02-24T09:15:33.585638Z",
     "shell.execute_reply.started": "2022-02-24T09:15:33.216893Z"
    }
   },
   "outputs": [],
   "source": [
    "plt.figure(figsize=(10,10))\n",
    "df_drop = df.drop(columns=['Target','Product ID', 'UDI','Type'])\n",
    "df_normalize=(df_drop-df_drop.mean())/df_drop.std()\n",
    "pl=sns.boxplot(data=df_normalize.drop(columns='Failure Type'), orient = 'h')\n",
    "pl.set_title(\"Box Plot\")\n",
    "plt.show()"
   ]
  },
  {
   "cell_type": "markdown",
   "metadata": {},
   "source": [
    "Chances are these outliers could be the cause of failure"
   ]
  },
  {
   "cell_type": "markdown",
   "metadata": {},
   "source": [
    "<a id=\"divide-box-plot\"></a>\n",
    "## Divide box plot into \"No Failure\" & \"Failure\" "
   ]
  },
  {
   "cell_type": "code",
   "execution_count": null,
   "metadata": {
    "execution": {
     "iopub.execute_input": "2022-02-24T09:15:33.588805Z",
     "iopub.status.busy": "2022-02-24T09:15:33.588255Z",
     "iopub.status.idle": "2022-02-24T09:15:34.18781Z",
     "shell.execute_reply": "2022-02-24T09:15:34.186692Z",
     "shell.execute_reply.started": "2022-02-24T09:15:33.588762Z"
    }
   },
   "outputs": [],
   "source": [
    "plt.figure(figsize=(15,15))\n",
    "df_drop = df.drop(columns=['Target','Product ID', 'UDI','Type'])\n",
    "\n",
    "plt.subplot(2,1,1)\n",
    "df_no_fail = df_drop[df_drop['Failure Type']==\"No Failure\"]\n",
    "# pl = sns.boxplot(data=df_no_fail)\n",
    "df_normalize=(df_no_fail-df_no_fail.mean())/df_no_fail.std()\n",
    "pl=sns.boxplot(data=df_normalize.drop(columns='Failure Type'), orient = 'h')\n",
    "pl.set_xlim([-4, 7])\n",
    "pl.set_title(\"Box Plot (No Failure)\")\n",
    "\n",
    "plt.subplot(2,1,2)\n",
    "df_fail = df_drop[df_drop['Failure Type']!=\"No Failure\"]\n",
    "# pl = sns.boxplot(data=df_no_fail)\n",
    "df_normalize=(df_fail-df_fail.mean())/df_fail.std()\n",
    "pl=sns.boxplot(data=df_normalize.drop(columns='Failure Type'), orient = 'h')\n",
    "pl.set_xlim([-4, 7])\n",
    "pl.set_title(\"Box Plot (Failure)\")\n",
    "plt.show()"
   ]
  },
  {
   "cell_type": "markdown",
   "metadata": {},
   "source": [
    "1. Data distribution of \"Air temperature \\[K\\]\" is different for \"Failure\" and \"No Failure\" (at least more obvious than \"Process temperature \\[K\\]\") so I decided to remove \"Process temperature \\[K\\]\".\n",
    "2. Rotational speed \\[rpm\\] hsa obvious difference between \"Failure\" and \"No Failure\" so I decided to remove \"Torque \\[Nm\\]\"."
   ]
  },
  {
   "cell_type": "markdown",
   "metadata": {},
   "source": [
    "<a id=\"rename-columns\"></a>\n",
    "## Rename Columns"
   ]
  },
  {
   "cell_type": "code",
   "execution_count": null,
   "metadata": {
    "execution": {
     "iopub.execute_input": "2022-02-24T09:15:34.189389Z",
     "iopub.status.busy": "2022-02-24T09:15:34.189152Z",
     "iopub.status.idle": "2022-02-24T09:15:34.226891Z",
     "shell.execute_reply": "2022-02-24T09:15:34.225981Z",
     "shell.execute_reply.started": "2022-02-24T09:15:34.189361Z"
    }
   },
   "outputs": [],
   "source": [
    "df['Air temperature'] = df['Air temperature [K]']\n",
    "df['Rotational speed'] = df['Rotational speed [rpm]']\n",
    "df['Tool wear'] = df['Tool wear [min]']\n",
    "df"
   ]
  },
  {
   "cell_type": "markdown",
   "metadata": {},
   "source": [
    "<a id=\"removes-features\"></a>\n",
    "## Removes useless and correlated features"
   ]
  },
  {
   "cell_type": "code",
   "execution_count": null,
   "metadata": {
    "execution": {
     "iopub.execute_input": "2022-02-24T09:15:34.228555Z",
     "iopub.status.busy": "2022-02-24T09:15:34.228178Z",
     "iopub.status.idle": "2022-02-24T09:15:34.237351Z",
     "shell.execute_reply": "2022-02-24T09:15:34.236353Z",
     "shell.execute_reply.started": "2022-02-24T09:15:34.228508Z"
    }
   },
   "outputs": [],
   "source": [
    "df.drop(columns = ['UDI','Product ID', 'Process temperature [K]', 'Torque [Nm]', 'Target','Air temperature [K]','Rotational speed [rpm]','Tool wear [min]'], inplace = True)"
   ]
  },
  {
   "cell_type": "code",
   "execution_count": null,
   "metadata": {
    "execution": {
     "iopub.execute_input": "2022-02-24T09:15:34.239561Z",
     "iopub.status.busy": "2022-02-24T09:15:34.239184Z",
     "iopub.status.idle": "2022-02-24T09:15:34.267569Z",
     "shell.execute_reply": "2022-02-24T09:15:34.266766Z",
     "shell.execute_reply.started": "2022-02-24T09:15:34.239513Z"
    }
   },
   "outputs": [],
   "source": [
    "df.info()"
   ]
  },
  {
   "cell_type": "code",
   "execution_count": null,
   "metadata": {
    "execution": {
     "iopub.execute_input": "2022-02-24T09:15:34.269644Z",
     "iopub.status.busy": "2022-02-24T09:15:34.269175Z",
     "iopub.status.idle": "2022-02-24T09:15:34.287221Z",
     "shell.execute_reply": "2022-02-24T09:15:34.286318Z",
     "shell.execute_reply.started": "2022-02-24T09:15:34.269596Z"
    }
   },
   "outputs": [],
   "source": [
    "df.columns"
   ]
  },
  {
   "cell_type": "markdown",
   "metadata": {},
   "source": [
    "<a id=\"pair-plot\"></a>\n",
    "## Pairplot"
   ]
  },
  {
   "cell_type": "code",
   "execution_count": null,
   "metadata": {
    "execution": {
     "iopub.execute_input": "2022-02-24T09:15:34.288857Z",
     "iopub.status.busy": "2022-02-24T09:15:34.288638Z",
     "iopub.status.idle": "2022-02-24T09:15:41.17565Z",
     "shell.execute_reply": "2022-02-24T09:15:41.174358Z",
     "shell.execute_reply.started": "2022-02-24T09:15:34.288831Z"
    }
   },
   "outputs": [],
   "source": [
    "sns.pairplot(df, hue = \"Failure Type\")\n",
    "plt.show()"
   ]
  },
  {
   "cell_type": "markdown",
   "metadata": {},
   "source": [
    "<a id=\"imbalanced-data\"></a>\n",
    "# Imbalanced Data"
   ]
  },
  {
   "cell_type": "markdown",
   "metadata": {
    "execution": {
     "iopub.execute_input": "2022-02-19T08:07:42.214734Z",
     "iopub.status.busy": "2022-02-19T08:07:42.213762Z",
     "iopub.status.idle": "2022-02-19T08:07:42.223328Z",
     "shell.execute_reply": "2022-02-19T08:07:42.221366Z",
     "shell.execute_reply.started": "2022-02-19T08:07:42.214673Z"
    }
   },
   "source": [
    "Data distribution of the failures are not obvious due to imbalanced data."
   ]
  },
  {
   "cell_type": "code",
   "execution_count": null,
   "metadata": {
    "execution": {
     "iopub.execute_input": "2022-02-24T09:15:41.177262Z",
     "iopub.status.busy": "2022-02-24T09:15:41.177023Z",
     "iopub.status.idle": "2022-02-24T09:15:41.477926Z",
     "shell.execute_reply": "2022-02-24T09:15:41.476915Z",
     "shell.execute_reply.started": "2022-02-24T09:15:41.177233Z"
    }
   },
   "outputs": [],
   "source": [
    "plt.figure(figsize=(12,7))\n",
    "pl = sns.countplot(y=df[\"Failure Type\"])\n",
    "pl.set_title(\"Failure Type (Frequency)\")\n",
    "pl.set(xlabel=None)\n",
    "for p in pl.patches:\n",
    "        percentage = p.get_width()\n",
    "        x = p.get_x() + p.get_width() + 0.02\n",
    "        y = p.get_y() + p.get_height()/2\n",
    "        pl.annotate(percentage, (x, y))\n",
    "plt.show()"
   ]
  },
  {
   "cell_type": "markdown",
   "metadata": {},
   "source": [
    "<a id=\"encoding\"></a>\n",
    "# One Hot Encoding"
   ]
  },
  {
   "cell_type": "code",
   "execution_count": null,
   "metadata": {
    "execution": {
     "iopub.execute_input": "2022-02-24T09:15:41.482817Z",
     "iopub.status.busy": "2022-02-24T09:15:41.482529Z",
     "iopub.status.idle": "2022-02-24T09:15:41.513602Z",
     "shell.execute_reply": "2022-02-24T09:15:41.512863Z",
     "shell.execute_reply.started": "2022-02-24T09:15:41.482781Z"
    }
   },
   "outputs": [],
   "source": [
    "encoder = OneHotEncoder(handle_unknown = 'ignore')\n",
    "transformed = encoder.fit_transform(df['Type'].to_numpy().reshape(-1,1)).toarray()\n",
    "enc_df = pd.DataFrame(transformed)\n",
    "df2 = df.join(enc_df)\n",
    "df2"
   ]
  },
  {
   "cell_type": "markdown",
   "metadata": {},
   "source": [
    "<a id=\"get-dummies\"></a>\n",
    "## get_dummies approach"
   ]
  },
  {
   "cell_type": "code",
   "execution_count": null,
   "metadata": {
    "execution": {
     "iopub.execute_input": "2022-02-24T09:15:41.515326Z",
     "iopub.status.busy": "2022-02-24T09:15:41.515069Z",
     "iopub.status.idle": "2022-02-24T09:15:41.537936Z",
     "shell.execute_reply": "2022-02-24T09:15:41.537347Z",
     "shell.execute_reply.started": "2022-02-24T09:15:41.515296Z"
    }
   },
   "outputs": [],
   "source": [
    "dum_df = pd.get_dummies(df,columns = ['Type'], prefix = ['Type'])\n",
    "dum_df"
   ]
  },
  {
   "cell_type": "markdown",
   "metadata": {},
   "source": [
    "Let's use dum_df since it saved our time of renaming the columns"
   ]
  },
  {
   "cell_type": "code",
   "execution_count": null,
   "metadata": {
    "execution": {
     "iopub.execute_input": "2022-02-24T09:15:41.539325Z",
     "iopub.status.busy": "2022-02-24T09:15:41.539086Z",
     "iopub.status.idle": "2022-02-24T09:15:41.55632Z",
     "shell.execute_reply": "2022-02-24T09:15:41.555491Z",
     "shell.execute_reply.started": "2022-02-24T09:15:41.539295Z"
    }
   },
   "outputs": [],
   "source": [
    "# Removes \"Type_H\" to reduce multicollinearity\n",
    "df = dum_df.drop(columns = ['Type_H'])\n",
    "df"
   ]
  },
  {
   "cell_type": "markdown",
   "metadata": {},
   "source": [
    "<a id=\"train-test-split\"></a>\n",
    "# Train-Test Split"
   ]
  },
  {
   "cell_type": "markdown",
   "metadata": {},
   "source": [
    "We need to split our data set before over sampling to prevent information leak into validation and testing set. This will over fit the testing set."
   ]
  },
  {
   "cell_type": "code",
   "execution_count": null,
   "metadata": {
    "execution": {
     "iopub.execute_input": "2022-02-24T09:15:41.558173Z",
     "iopub.status.busy": "2022-02-24T09:15:41.557527Z",
     "iopub.status.idle": "2022-02-24T09:15:41.573403Z",
     "shell.execute_reply": "2022-02-24T09:15:41.57276Z",
     "shell.execute_reply.started": "2022-02-24T09:15:41.558138Z"
    }
   },
   "outputs": [],
   "source": [
    "# Define X and y\n",
    "X = df.drop(columns = 'Failure Type')\n",
    "y = df[\"Failure Type\"]"
   ]
  },
  {
   "cell_type": "code",
   "execution_count": null,
   "metadata": {
    "execution": {
     "iopub.execute_input": "2022-02-24T09:15:41.575032Z",
     "iopub.status.busy": "2022-02-24T09:15:41.574413Z",
     "iopub.status.idle": "2022-02-24T09:15:41.600328Z",
     "shell.execute_reply": "2022-02-24T09:15:41.599413Z",
     "shell.execute_reply.started": "2022-02-24T09:15:41.574999Z"
    }
   },
   "outputs": [],
   "source": [
    "X"
   ]
  },
  {
   "cell_type": "code",
   "execution_count": null,
   "metadata": {
    "execution": {
     "iopub.execute_input": "2022-02-24T09:15:41.603283Z",
     "iopub.status.busy": "2022-02-24T09:15:41.602205Z",
     "iopub.status.idle": "2022-02-24T09:15:41.619786Z",
     "shell.execute_reply": "2022-02-24T09:15:41.619018Z",
     "shell.execute_reply.started": "2022-02-24T09:15:41.60323Z"
    }
   },
   "outputs": [],
   "source": [
    "y"
   ]
  },
  {
   "cell_type": "code",
   "execution_count": null,
   "metadata": {
    "execution": {
     "iopub.execute_input": "2022-02-24T09:15:41.621343Z",
     "iopub.status.busy": "2022-02-24T09:15:41.620828Z",
     "iopub.status.idle": "2022-02-24T09:15:41.636359Z",
     "shell.execute_reply": "2022-02-24T09:15:41.635474Z",
     "shell.execute_reply.started": "2022-02-24T09:15:41.621313Z"
    }
   },
   "outputs": [],
   "source": [
    "# Number of instances for each class\n",
    "from collections import Counter\n",
    "print(sorted(Counter(y).items()))"
   ]
  },
  {
   "cell_type": "code",
   "execution_count": null,
   "metadata": {
    "execution": {
     "iopub.execute_input": "2022-02-24T09:15:41.637948Z",
     "iopub.status.busy": "2022-02-24T09:15:41.637702Z",
     "iopub.status.idle": "2022-02-24T09:15:41.661253Z",
     "shell.execute_reply": "2022-02-24T09:15:41.660275Z",
     "shell.execute_reply.started": "2022-02-24T09:15:41.637918Z"
    }
   },
   "outputs": [],
   "source": [
    "from sklearn import preprocessing\n",
    "le = preprocessing.LabelEncoder()\n",
    "y = le.fit_transform(y)"
   ]
  },
  {
   "cell_type": "code",
   "execution_count": null,
   "metadata": {
    "execution": {
     "iopub.execute_input": "2022-02-24T09:15:41.663303Z",
     "iopub.status.busy": "2022-02-24T09:15:41.662331Z",
     "iopub.status.idle": "2022-02-24T09:15:41.677975Z",
     "shell.execute_reply": "2022-02-24T09:15:41.677023Z",
     "shell.execute_reply.started": "2022-02-24T09:15:41.663265Z"
    }
   },
   "outputs": [],
   "source": [
    "y"
   ]
  },
  {
   "cell_type": "code",
   "execution_count": null,
   "metadata": {
    "execution": {
     "iopub.execute_input": "2022-02-24T09:15:41.680054Z",
     "iopub.status.busy": "2022-02-24T09:15:41.679226Z",
     "iopub.status.idle": "2022-02-24T09:15:41.700435Z",
     "shell.execute_reply": "2022-02-24T09:15:41.699687Z",
     "shell.execute_reply.started": "2022-02-24T09:15:41.679987Z"
    }
   },
   "outputs": [],
   "source": [
    "# train-test split\n",
    "from sklearn.model_selection import train_test_split\n",
    "\n",
    "X_train, X_test, y_train, y_test = train_test_split(\n",
    "    X, y, stratify=y, test_size=0.2, random_state=1)\n",
    "    \n",
    "print(X_train.shape, X_test.shape, y_train.shape, y_test.shape)"
   ]
  },
  {
   "cell_type": "code",
   "execution_count": null,
   "metadata": {
    "execution": {
     "iopub.execute_input": "2022-02-24T09:15:41.702583Z",
     "iopub.status.busy": "2022-02-24T09:15:41.701723Z",
     "iopub.status.idle": "2022-02-24T09:15:41.714187Z",
     "shell.execute_reply": "2022-02-24T09:15:41.713403Z",
     "shell.execute_reply.started": "2022-02-24T09:15:41.702531Z"
    }
   },
   "outputs": [],
   "source": [
    "# Number of instances for each class\n",
    "from collections import Counter\n",
    "print(sorted(Counter(y).items()))"
   ]
  },
  {
   "cell_type": "markdown",
   "metadata": {},
   "source": [
    "<a id=\"classify-imbalanced-data\"></a>\n",
    "# Classifying Imbalanced Data"
   ]
  },
  {
   "cell_type": "code",
   "execution_count": null,
   "metadata": {
    "execution": {
     "iopub.execute_input": "2022-02-24T09:15:41.716452Z",
     "iopub.status.busy": "2022-02-24T09:15:41.715965Z",
     "iopub.status.idle": "2022-02-24T09:15:47.967257Z",
     "shell.execute_reply": "2022-02-24T09:15:47.96653Z",
     "shell.execute_reply.started": "2022-02-24T09:15:41.716385Z"
    }
   },
   "outputs": [],
   "source": [
    "# Classifying imbalanced data\n",
    "from sklearn.ensemble import RandomForestClassifier\n",
    "model = RandomForestClassifier()\n",
    "model.fit(X,y)\n",
    "\n",
    "cv_results = cross_validate(\n",
    "    model, X, y, scoring=\"balanced_accuracy\",\n",
    "    return_train_score=True, return_estimator=True,\n",
    "    n_jobs=-1\n",
    ")\n",
    "cv_results"
   ]
  },
  {
   "cell_type": "markdown",
   "metadata": {},
   "source": [
    "We get very low accuracy (30%) due to imbalanced data."
   ]
  },
  {
   "cell_type": "code",
   "execution_count": null,
   "metadata": {
    "execution": {
     "iopub.execute_input": "2022-02-24T09:15:47.96951Z",
     "iopub.status.busy": "2022-02-24T09:15:47.969073Z",
     "iopub.status.idle": "2022-02-24T09:15:49.879262Z",
     "shell.execute_reply": "2022-02-24T09:15:49.877935Z",
     "shell.execute_reply.started": "2022-02-24T09:15:47.969459Z"
    }
   },
   "outputs": [],
   "source": [
    "from sklearn.model_selection import cross_val_predict\n",
    "\n",
    "y_train_predict = cross_val_predict(model, X_train, y_train, cv=3)"
   ]
  },
  {
   "cell_type": "code",
   "execution_count": null,
   "metadata": {
    "execution": {
     "iopub.execute_input": "2022-02-24T09:15:49.881653Z",
     "iopub.status.busy": "2022-02-24T09:15:49.881352Z",
     "iopub.status.idle": "2022-02-24T09:15:49.902245Z",
     "shell.execute_reply": "2022-02-24T09:15:49.901555Z",
     "shell.execute_reply.started": "2022-02-24T09:15:49.881617Z"
    }
   },
   "outputs": [],
   "source": [
    "from sklearn.metrics import confusion_matrix\n",
    "cm = confusion_matrix(y_train,y_train_predict)\n",
    "cm"
   ]
  },
  {
   "cell_type": "markdown",
   "metadata": {},
   "source": [
    "Visualize the matrix to better evaluate the model "
   ]
  },
  {
   "cell_type": "markdown",
   "metadata": {},
   "source": [
    "### Define y_class"
   ]
  },
  {
   "cell_type": "code",
   "execution_count": null,
   "metadata": {
    "execution": {
     "iopub.execute_input": "2022-02-24T09:15:49.903764Z",
     "iopub.status.busy": "2022-02-24T09:15:49.90325Z",
     "iopub.status.idle": "2022-02-24T09:15:49.925744Z",
     "shell.execute_reply": "2022-02-24T09:15:49.924643Z",
     "shell.execute_reply.started": "2022-02-24T09:15:49.903725Z"
    }
   },
   "outputs": [],
   "source": [
    "from sklearn.metrics import classification_report\n",
    "cr = classification_report(y_train,y_train_predict, output_dict=True)\n",
    "\n",
    "y_list = []\n",
    "\n",
    "for key, values in cr.items():\n",
    "    y_list.append(key)\n",
    "\n",
    "y_class_str = []\n",
    "    \n",
    "for i in y_list[:6]:\n",
    "    y_class_str.append(int(i))\n",
    "    \n",
    "y_class_str"
   ]
  },
  {
   "cell_type": "code",
   "execution_count": null,
   "metadata": {
    "execution": {
     "iopub.execute_input": "2022-02-24T09:15:49.92786Z",
     "iopub.status.busy": "2022-02-24T09:15:49.927444Z",
     "iopub.status.idle": "2022-02-24T09:15:49.93629Z",
     "shell.execute_reply": "2022-02-24T09:15:49.935348Z",
     "shell.execute_reply.started": "2022-02-24T09:15:49.927811Z"
    }
   },
   "outputs": [],
   "source": [
    "y_class = le.inverse_transform(y_class_str)\n",
    "y_class"
   ]
  },
  {
   "cell_type": "markdown",
   "metadata": {},
   "source": [
    "This list is going to be our x & y axes for our confusion matrix heat map"
   ]
  },
  {
   "cell_type": "code",
   "execution_count": null,
   "metadata": {
    "execution": {
     "iopub.execute_input": "2022-02-24T09:15:49.93923Z",
     "iopub.status.busy": "2022-02-24T09:15:49.938244Z",
     "iopub.status.idle": "2022-02-24T09:15:50.733127Z",
     "shell.execute_reply": "2022-02-24T09:15:50.731955Z",
     "shell.execute_reply.started": "2022-02-24T09:15:49.939185Z"
    }
   },
   "outputs": [],
   "source": [
    "df_cm = pd.DataFrame(cm, index = [y_class],\n",
    "                  columns = y_class)\n",
    "plt.figure(figsize = (10,7))\n",
    "sns.heatmap(df_cm, annot=True)\n",
    "plt.xlabel('Predicted')\n",
    "plt.ylabel('Actual')\n",
    "plt.show()"
   ]
  },
  {
   "cell_type": "markdown",
   "metadata": {},
   "source": [
    "From the heat map, we can say that:\n",
    "1. The model is heavily biased towards majority class\n",
    "2. Minority classes are heavily underfitted"
   ]
  },
  {
   "cell_type": "markdown",
   "metadata": {},
   "source": [
    "What about the precision-recall and f1 score?"
   ]
  },
  {
   "cell_type": "code",
   "execution_count": null,
   "metadata": {
    "execution": {
     "iopub.execute_input": "2022-02-24T09:15:50.735203Z",
     "iopub.status.busy": "2022-02-24T09:15:50.734849Z",
     "iopub.status.idle": "2022-02-24T09:15:50.75614Z",
     "shell.execute_reply": "2022-02-24T09:15:50.755405Z",
     "shell.execute_reply.started": "2022-02-24T09:15:50.735156Z"
    }
   },
   "outputs": [],
   "source": [
    "print(classification_report(y_train,y_train_predict))"
   ]
  },
  {
   "cell_type": "markdown",
   "metadata": {},
   "source": [
    "Consistent with our heat map, minority classes are heavily underfitted especially \"Random Failure\" & \"Tool Wear Failure\" (Recall = 0). Out of 50 failures the model catch none of them which is very bad. When the data is highly imbalanced, the model wasn't exposed to the minority class enough and was taught to predict the mojority class most of the time. Therefore, we shoud resample our data such that the majority class and minority classes have equal chance to be seen by the model. "
   ]
  },
  {
   "cell_type": "markdown",
   "metadata": {
    "execution": {
     "iopub.execute_input": "2022-02-23T10:01:24.076014Z",
     "iopub.status.busy": "2022-02-23T10:01:24.07569Z",
     "iopub.status.idle": "2022-02-23T10:01:24.081138Z",
     "shell.execute_reply": "2022-02-23T10:01:24.080292Z",
     "shell.execute_reply.started": "2022-02-23T10:01:24.075984Z"
    }
   },
   "source": [
    "<a id=\"resampling-data\"></a>\n",
    "# Resampling Data + Modelling"
   ]
  },
  {
   "cell_type": "markdown",
   "metadata": {},
   "source": [
    "Note that we're resampling our data after train-test split so that information from the training set didn't leak into the testing set."
   ]
  },
  {
   "cell_type": "markdown",
   "metadata": {},
   "source": [
    "Credit to this [article](https://kiwidamien.github.io/how-to-do-cross-validation-when-upsampling-data.html) for the right way to oversample without polluting your validation set."
   ]
  },
  {
   "cell_type": "code",
   "execution_count": null,
   "metadata": {
    "execution": {
     "iopub.execute_input": "2022-02-24T09:15:50.758169Z",
     "iopub.status.busy": "2022-02-24T09:15:50.757677Z",
     "iopub.status.idle": "2022-02-24T09:15:50.762673Z",
     "shell.execute_reply": "2022-02-24T09:15:50.761723Z",
     "shell.execute_reply.started": "2022-02-24T09:15:50.758138Z"
    }
   },
   "outputs": [],
   "source": [
    "# from sklearn.model_selection import KFold\n",
    "from sklearn.model_selection import StratifiedKFold\n",
    "# kf = KFold(n_splits=5, random_state=42, shuffle=False)\n",
    "skf = StratifiedKFold(n_splits=5, random_state=42, shuffle=True)"
   ]
  },
  {
   "cell_type": "code",
   "execution_count": null,
   "metadata": {
    "execution": {
     "iopub.execute_input": "2022-02-24T09:15:50.764899Z",
     "iopub.status.busy": "2022-02-24T09:15:50.764606Z",
     "iopub.status.idle": "2022-02-24T09:15:50.781274Z",
     "shell.execute_reply": "2022-02-24T09:15:50.780497Z",
     "shell.execute_reply.started": "2022-02-24T09:15:50.764867Z"
    }
   },
   "outputs": [],
   "source": [
    "from imblearn.under_sampling import RandomUnderSampler"
   ]
  },
  {
   "cell_type": "markdown",
   "metadata": {},
   "source": [
    "<a id=\"random-forest\"></a>\n",
    "## Random Forest Classifier"
   ]
  },
  {
   "cell_type": "code",
   "execution_count": null,
   "metadata": {
    "execution": {
     "iopub.execute_input": "2022-02-24T09:15:50.783089Z",
     "iopub.status.busy": "2022-02-24T09:15:50.782572Z",
     "iopub.status.idle": "2022-02-24T09:15:50.798873Z",
     "shell.execute_reply": "2022-02-24T09:15:50.797841Z",
     "shell.execute_reply.started": "2022-02-24T09:15:50.783056Z"
    }
   },
   "outputs": [],
   "source": [
    "# parameters for grid search\n",
    "rf_params = {\n",
    "    'n_estimators': [50, 100, 150],\n",
    "    'max_depth': [4, 6, 10, 12],\n",
    "    'random_state': [13]\n",
    "}\n",
    "# Add classifier's name for grid search\n",
    "pipe_rf_params = {'randomforestclassifier__' + key: rf_params[key] for key in rf_params}\n",
    "pipe_rf_params"
   ]
  },
  {
   "cell_type": "code",
   "execution_count": null,
   "metadata": {
    "execution": {
     "iopub.execute_input": "2022-02-24T09:15:50.801521Z",
     "iopub.status.busy": "2022-02-24T09:15:50.800561Z",
     "iopub.status.idle": "2022-02-24T09:16:11.334253Z",
     "shell.execute_reply": "2022-02-24T09:16:11.333294Z",
     "shell.execute_reply.started": "2022-02-24T09:15:50.80146Z"
    }
   },
   "outputs": [],
   "source": [
    "# from imblearn.pipeline import Pipeline, make_pipeline\n",
    "# from imblearn.over_sampling import SMOTE \n",
    "# from sklearn.model_selection import cross_val_score\n",
    "# from sklearn.model_selection import GridSearchCV\n",
    "\n",
    "\n",
    "rf_pipeline = make_pipeline(RandomUnderSampler(sampling_strategy='majority'),SMOTE(random_state=42), \n",
    "                              RandomForestClassifier(random_state=13))\n",
    "\n",
    "# use recall_weighted instead of recall because this is multiclass\n",
    "grid_rf = GridSearchCV(rf_pipeline, param_grid=pipe_rf_params, cv=skf,scoring='recall_weighted',\n",
    "                        return_train_score=True)\n",
    "grid_rf.fit(X_train, y_train)\n",
    "grid_rf.best_score_"
   ]
  },
  {
   "cell_type": "code",
   "execution_count": null,
   "metadata": {
    "execution": {
     "iopub.execute_input": "2022-02-24T09:16:11.336497Z",
     "iopub.status.busy": "2022-02-24T09:16:11.336002Z",
     "iopub.status.idle": "2022-02-24T09:16:11.342111Z",
     "shell.execute_reply": "2022-02-24T09:16:11.341143Z",
     "shell.execute_reply.started": "2022-02-24T09:16:11.336451Z"
    }
   },
   "outputs": [],
   "source": [
    "grid_rf.best_params_"
   ]
  },
  {
   "cell_type": "markdown",
   "metadata": {},
   "source": [
    "It is important for us to test on testing set instead of validation set because we're using grid search which could overfit the validation set."
   ]
  },
  {
   "cell_type": "code",
   "execution_count": null,
   "metadata": {
    "execution": {
     "iopub.execute_input": "2022-02-24T09:16:11.343727Z",
     "iopub.status.busy": "2022-02-24T09:16:11.343471Z",
     "iopub.status.idle": "2022-02-24T09:16:11.47725Z",
     "shell.execute_reply": "2022-02-24T09:16:11.476291Z",
     "shell.execute_reply.started": "2022-02-24T09:16:11.343697Z"
    }
   },
   "outputs": [],
   "source": [
    "y_train_predict = grid_rf.predict(X_train)\n",
    "cm_val = confusion_matrix(y_train,y_train_predict)\n",
    "\n",
    "y_test_predict = grid_rf.predict(X_test)\n",
    "cm_test = confusion_matrix(y_test,y_test_predict)\n",
    "\n",
    "print(\"Validation Score:\")\n",
    "print(cm_val)\n",
    "print(\"Test Score:\")\n",
    "print(cm_test)"
   ]
  },
  {
   "cell_type": "code",
   "execution_count": null,
   "metadata": {
    "execution": {
     "iopub.execute_input": "2022-02-24T09:16:11.47879Z",
     "iopub.status.busy": "2022-02-24T09:16:11.478555Z",
     "iopub.status.idle": "2022-02-24T09:16:12.441312Z",
     "shell.execute_reply": "2022-02-24T09:16:12.440213Z",
     "shell.execute_reply.started": "2022-02-24T09:16:11.478762Z"
    }
   },
   "outputs": [],
   "source": [
    "df_val = pd.DataFrame(cm_val, index = [y_class],\n",
    "                  columns = y_class)\n",
    "\n",
    "df_test = pd.DataFrame(cm_test, index = [y_class],\n",
    "                  columns = y_class)\n",
    "\n",
    "plt.figure(figsize = (15,15))\n",
    "plt.subplot(2,1,1)\n",
    "pl = sns.heatmap(df_val, annot=True)\n",
    "plt.xlabel('Predicted')\n",
    "plt.ylabel('Actual')\n",
    "pl.set_title(\"Validation\")\n",
    "\n",
    "plt.subplot(2,1,2)\n",
    "pl2 = sns.heatmap(df_test, annot=True)\n",
    "plt.xlabel('Predicted')\n",
    "plt.ylabel('Actual')\n",
    "pl2.set_title(\"Test\")\n",
    "plt.show()"
   ]
  },
  {
   "cell_type": "code",
   "execution_count": null,
   "metadata": {
    "execution": {
     "iopub.execute_input": "2022-02-24T09:16:12.443416Z",
     "iopub.status.busy": "2022-02-24T09:16:12.44306Z",
     "iopub.status.idle": "2022-02-24T09:16:12.473484Z",
     "shell.execute_reply": "2022-02-24T09:16:12.472375Z",
     "shell.execute_reply.started": "2022-02-24T09:16:12.443366Z"
    }
   },
   "outputs": [],
   "source": [
    "print(\"Validation Score:\")\n",
    "print(classification_report(y_train,y_train_predict))\n",
    "print(\"\")\n",
    "print(\"Test Score:\")\n",
    "print(classification_report(y_test,y_test_predict))"
   ]
  },
  {
   "cell_type": "markdown",
   "metadata": {},
   "source": [
    "Now, we see that this model tried to classify the imbalanced classes more (although it was not accurate). Something worth taking note is that the validation score is so much better than our test score. This might be a sign of overfitting the validation set. Try pruning the tree or use other model to see if it gets better"
   ]
  },
  {
   "cell_type": "markdown",
   "metadata": {},
   "source": [
    "<a id=\"GBT\"></a>\n",
    "## Gradient Boosting Classifier"
   ]
  },
  {
   "cell_type": "code",
   "execution_count": null,
   "metadata": {
    "execution": {
     "iopub.execute_input": "2022-02-24T09:16:12.474976Z",
     "iopub.status.busy": "2022-02-24T09:16:12.474742Z",
     "iopub.status.idle": "2022-02-24T09:16:12.482333Z",
     "shell.execute_reply": "2022-02-24T09:16:12.481376Z",
     "shell.execute_reply.started": "2022-02-24T09:16:12.474948Z"
    }
   },
   "outputs": [],
   "source": [
    "# parameters for grid search\n",
    "GBT_params = {\n",
    "    'max_depth': [3, 5, 7],\n",
    "    'tol': [0.01,0.02]\n",
    "}\n",
    "# Add classifier's name for grid search\n",
    "pipe_GBT_params = {'gradientboostingclassifier__' + key: GBT_params[key] for key in GBT_params}\n",
    "pipe_GBT_params"
   ]
  },
  {
   "cell_type": "code",
   "execution_count": null,
   "metadata": {
    "execution": {
     "iopub.execute_input": "2022-02-24T09:16:12.488119Z",
     "iopub.status.busy": "2022-02-24T09:16:12.487796Z",
     "iopub.status.idle": "2022-02-24T09:17:03.895879Z",
     "shell.execute_reply": "2022-02-24T09:17:03.894894Z",
     "shell.execute_reply.started": "2022-02-24T09:16:12.488064Z"
    }
   },
   "outputs": [],
   "source": [
    "# from sklearn.ensemble import GradientBoostingClassifier\n",
    "# from imblearn.under_sampling import RandomUnderSampler\n",
    "\n",
    "GBT_pipeline = make_pipeline(RandomUnderSampler(sampling_strategy='majority'),SMOTE(random_state=42), \n",
    "                              GradientBoostingClassifier(random_state=13))\n",
    "\n",
    "# use recall_weighted instead of recall because this is multiclass\n",
    "grid_GBT = GridSearchCV(GBT_pipeline, param_grid=pipe_GBT_params, cv=skf,scoring='recall_weighted',\n",
    "                        return_train_score=True)\n",
    "grid_GBT.fit(X_train, y_train)\n",
    "grid_GBT.best_score_"
   ]
  },
  {
   "cell_type": "code",
   "execution_count": null,
   "metadata": {
    "execution": {
     "iopub.execute_input": "2022-02-24T09:17:03.898171Z",
     "iopub.status.busy": "2022-02-24T09:17:03.897563Z",
     "iopub.status.idle": "2022-02-24T09:17:03.904833Z",
     "shell.execute_reply": "2022-02-24T09:17:03.903769Z",
     "shell.execute_reply.started": "2022-02-24T09:17:03.898116Z"
    }
   },
   "outputs": [],
   "source": [
    "grid_GBT.best_params_"
   ]
  },
  {
   "cell_type": "code",
   "execution_count": null,
   "metadata": {
    "execution": {
     "iopub.execute_input": "2022-02-24T09:17:03.906518Z",
     "iopub.status.busy": "2022-02-24T09:17:03.906268Z",
     "iopub.status.idle": "2022-02-24T09:17:04.19219Z",
     "shell.execute_reply": "2022-02-24T09:17:04.191052Z",
     "shell.execute_reply.started": "2022-02-24T09:17:03.906489Z"
    }
   },
   "outputs": [],
   "source": [
    "y_train_predict = grid_GBT.predict(X_train)\n",
    "cm_val = confusion_matrix(y_train,y_train_predict)\n",
    "\n",
    "y_test_predict = grid_GBT.predict(X_test)\n",
    "cm_test = confusion_matrix(y_test,y_test_predict)\n",
    "\n",
    "print(\"Validation Score:\")\n",
    "print(cm_val)\n",
    "print(\"Test Score:\")\n",
    "print(cm_test)"
   ]
  },
  {
   "cell_type": "code",
   "execution_count": null,
   "metadata": {
    "execution": {
     "iopub.execute_input": "2022-02-24T09:17:04.194172Z",
     "iopub.status.busy": "2022-02-24T09:17:04.193925Z",
     "iopub.status.idle": "2022-02-24T09:17:05.199487Z",
     "shell.execute_reply": "2022-02-24T09:17:05.198497Z",
     "shell.execute_reply.started": "2022-02-24T09:17:04.194144Z"
    }
   },
   "outputs": [],
   "source": [
    "df_val = pd.DataFrame(cm_val, index = [y_class],\n",
    "                  columns = y_class)\n",
    "\n",
    "df_test = pd.DataFrame(cm_test, index = [y_class],\n",
    "                  columns = y_class)\n",
    "\n",
    "plt.figure(figsize = (15,15))\n",
    "plt.subplot(2,1,1)\n",
    "pl = sns.heatmap(df_val, annot=True)\n",
    "plt.xlabel('Predicted')\n",
    "plt.ylabel('Actual')\n",
    "pl.set_title(\"Validation\")\n",
    "\n",
    "plt.subplot(2,1,2)\n",
    "pl2 = sns.heatmap(df_test, annot=True)\n",
    "plt.xlabel('Predicted')\n",
    "plt.ylabel('Actual')\n",
    "pl2.set_title(\"Test\")\n",
    "plt.show()"
   ]
  },
  {
   "cell_type": "code",
   "execution_count": null,
   "metadata": {
    "execution": {
     "iopub.execute_input": "2022-02-24T09:17:05.201143Z",
     "iopub.status.busy": "2022-02-24T09:17:05.200872Z",
     "iopub.status.idle": "2022-02-24T09:17:05.233067Z",
     "shell.execute_reply": "2022-02-24T09:17:05.232004Z",
     "shell.execute_reply.started": "2022-02-24T09:17:05.201111Z"
    }
   },
   "outputs": [],
   "source": [
    "print(\"Validation Score:\")\n",
    "print(classification_report(y_train,y_train_predict))\n",
    "print(\"\")\n",
    "print(\"Test Score:\")\n",
    "print(classification_report(y_test,y_test_predict))"
   ]
  },
  {
   "cell_type": "markdown",
   "metadata": {},
   "source": [
    "Now this model is better at finding actual \"Random Failure\" and \"Tool Wear Failure\" but at the cost of more false alarm."
   ]
  },
  {
   "cell_type": "markdown",
   "metadata": {},
   "source": [
    "<a id=\"xgboost\"></a>\n",
    "## XGBoost"
   ]
  },
  {
   "cell_type": "code",
   "execution_count": null,
   "metadata": {
    "execution": {
     "iopub.execute_input": "2022-02-24T09:17:05.234823Z",
     "iopub.status.busy": "2022-02-24T09:17:05.234584Z",
     "iopub.status.idle": "2022-02-24T09:17:05.242267Z",
     "shell.execute_reply": "2022-02-24T09:17:05.24155Z",
     "shell.execute_reply.started": "2022-02-24T09:17:05.234796Z"
    }
   },
   "outputs": [],
   "source": [
    "# parameters for grid search\n",
    "XGB_params = {\n",
    "    'max_depth': [3, 5, 7],\n",
    "    'min_child_weight': [2,5,6]\n",
    "}\n",
    "# Add classifier's name for grid search\n",
    "pipe_XGB_params = {'xgbclassifier__' + key: XGB_params[key] for key in XGB_params}\n",
    "pipe_XGB_params"
   ]
  },
  {
   "cell_type": "code",
   "execution_count": null,
   "metadata": {
    "execution": {
     "iopub.execute_input": "2022-02-24T09:17:05.244349Z",
     "iopub.status.busy": "2022-02-24T09:17:05.243867Z",
     "iopub.status.idle": "2022-02-24T09:17:29.416077Z",
     "shell.execute_reply": "2022-02-24T09:17:29.415053Z",
     "shell.execute_reply.started": "2022-02-24T09:17:05.244314Z"
    }
   },
   "outputs": [],
   "source": [
    "from xgboost import XGBClassifier\n",
    "\n",
    "XGB_pipeline = make_pipeline( RandomUnderSampler(sampling_strategy='majority'),SMOTE(random_state=42),\n",
    "                              XGBClassifier(use_label_encoder=False))\n",
    "\n",
    "# use recall_weighted instead of recall because this is multiclass\n",
    "grid_XGB = GridSearchCV(XGB_pipeline, param_grid=pipe_XGB_params, cv=skf,scoring='recall_weighted',\n",
    "                        return_train_score=True)\n",
    "grid_XGB.fit(X_train, y_train)\n",
    "grid_XGB.best_score_"
   ]
  },
  {
   "cell_type": "code",
   "execution_count": null,
   "metadata": {
    "execution": {
     "iopub.execute_input": "2022-02-24T09:17:29.417662Z",
     "iopub.status.busy": "2022-02-24T09:17:29.417361Z",
     "iopub.status.idle": "2022-02-24T09:17:29.423887Z",
     "shell.execute_reply": "2022-02-24T09:17:29.423003Z",
     "shell.execute_reply.started": "2022-02-24T09:17:29.417631Z"
    }
   },
   "outputs": [],
   "source": [
    "grid_XGB.best_params_"
   ]
  },
  {
   "cell_type": "code",
   "execution_count": null,
   "metadata": {
    "execution": {
     "iopub.execute_input": "2022-02-24T09:17:29.425364Z",
     "iopub.status.busy": "2022-02-24T09:17:29.425105Z",
     "iopub.status.idle": "2022-02-24T09:17:29.509663Z",
     "shell.execute_reply": "2022-02-24T09:17:29.50891Z",
     "shell.execute_reply.started": "2022-02-24T09:17:29.425325Z"
    }
   },
   "outputs": [],
   "source": [
    "y_train_predict = grid_XGB.predict(X_train)\n",
    "cm_val = confusion_matrix(y_train,y_train_predict)\n",
    "\n",
    "y_test_predict = grid_XGB.predict(X_test)\n",
    "cm_test = confusion_matrix(y_test,y_test_predict)\n",
    "\n",
    "print(\"Validation Score:\")\n",
    "print(cm_val)\n",
    "print(\"Test Score:\")\n",
    "print(cm_test)"
   ]
  },
  {
   "cell_type": "code",
   "execution_count": null,
   "metadata": {
    "execution": {
     "iopub.execute_input": "2022-02-24T09:17:29.511401Z",
     "iopub.status.busy": "2022-02-24T09:17:29.510996Z",
     "iopub.status.idle": "2022-02-24T09:17:30.482803Z",
     "shell.execute_reply": "2022-02-24T09:17:30.481648Z",
     "shell.execute_reply.started": "2022-02-24T09:17:29.511368Z"
    }
   },
   "outputs": [],
   "source": [
    "df_val = pd.DataFrame(cm_val, index = [y_class],\n",
    "                  columns = y_class)\n",
    "\n",
    "df_test = pd.DataFrame(cm_test, index = [y_class],\n",
    "                  columns = y_class)\n",
    "\n",
    "plt.figure(figsize = (15,15))\n",
    "plt.subplot(2,1,1)\n",
    "pl = sns.heatmap(df_val, annot=True)\n",
    "plt.xlabel('Predicted')\n",
    "plt.ylabel('Actual')\n",
    "pl.set_title(\"Validation\")\n",
    "\n",
    "plt.subplot(2,1,2)\n",
    "pl2 = sns.heatmap(df_test, annot=True)\n",
    "plt.xlabel('Predicted')\n",
    "plt.ylabel('Actual')\n",
    "pl2.set_title(\"Test\")\n",
    "plt.show()"
   ]
  },
  {
   "cell_type": "code",
   "execution_count": null,
   "metadata": {
    "execution": {
     "iopub.execute_input": "2022-02-24T09:17:30.484279Z",
     "iopub.status.busy": "2022-02-24T09:17:30.484056Z",
     "iopub.status.idle": "2022-02-24T09:17:30.513295Z",
     "shell.execute_reply": "2022-02-24T09:17:30.512495Z",
     "shell.execute_reply.started": "2022-02-24T09:17:30.484253Z"
    }
   },
   "outputs": [],
   "source": [
    "print(\"Validation Score:\")\n",
    "print(classification_report(y_train,y_train_predict))\n",
    "print(\"\")\n",
    "print(\"Test Score:\")\n",
    "print(classification_report(y_test,y_test_predict))"
   ]
  },
  {
   "cell_type": "markdown",
   "metadata": {},
   "source": [
    "There is no significant improvement comparing XGBoost with GBT."
   ]
  },
  {
   "cell_type": "markdown",
   "metadata": {},
   "source": [
    "<a id=\"conclusion\"></a>\n",
    "# Conclusion"
   ]
  },
  {
   "cell_type": "markdown",
   "metadata": {},
   "source": [
    "1. We can use Over & Down Sampling to help our model see more instances in minority classes.\n",
    "2. Split training & testing set before oversampling\n",
    "3. Use make_pipeline to prevent polluting validation set\n",
    "4. Boosting can help improve our prediction for minority classes at the cost of lower precision and misclassified majority class"
   ]
  },
  {
   "cell_type": "markdown",
   "metadata": {},
   "source": [
    "Please comment if you have suggestions on how to improve this notebook. 😁"
   ]
  },
  {
   "cell_type": "markdown",
   "metadata": {},
   "source": [
    "<a id=\"end\"></a>\n",
    "# [Back to top](#table-of-content)"
   ]
  }
 ],
 "metadata": {
  "kernelspec": {
   "display_name": "Python 3 (ipykernel)",
   "language": "python",
   "name": "python3"
  },
  "language_info": {
   "codemirror_mode": {
    "name": "ipython",
    "version": 3
   },
   "file_extension": ".py",
   "mimetype": "text/x-python",
   "name": "python",
   "nbconvert_exporter": "python",
   "pygments_lexer": "ipython3",
   "version": "3.10.2"
  }
 },
 "nbformat": 4,
 "nbformat_minor": 4
}
