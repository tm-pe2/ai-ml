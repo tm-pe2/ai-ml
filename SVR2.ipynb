{
 "cells": [
  {
   "cell_type": "code",
   "execution_count": 10,
   "id": "9abe90d0",
   "metadata": {
    "ExecuteTime": {
     "end_time": "2022-05-18T07:53:52.558557Z",
     "start_time": "2022-05-18T07:53:52.550580Z"
    }
   },
   "outputs": [],
   "source": [
    "from sklearn.svm import LinearSVR\n",
    "from sklearn.datasets import make_regression\n",
    "from sklearn.metrics import mean_squared_error, mean_absolute_error\n",
    "import numpy as np\n",
    "\n",
    "from sklearn.model_selection import train_test_split\n",
    "from sklearn.model_selection import cross_val_score\n",
    "from sklearn.preprocessing import scale\n",
    "import matplotlib.pyplot as plt\n",
    "import pandas as pd\n",
    "from sklearn.preprocessing import LabelEncoder\n",
    "from sklearn.preprocessing import StandardScaler "
   ]
  },
  {
   "cell_type": "code",
   "execution_count": 11,
   "id": "4b1d4834",
   "metadata": {
    "ExecuteTime": {
     "end_time": "2022-05-18T07:53:57.917731Z",
     "start_time": "2022-05-18T07:53:53.263928Z"
    }
   },
   "outputs": [],
   "source": [
    "df = pd.read_csv('household_power_consumption (Comma).csv')\n",
    "#df = pd.read_table('Data\\Sceaux France\\household_power_consumption.txt', ';')\n",
    "#X, y = make_regression(n_samples=10000, n_features=10)\n",
    "df = df.replace(['Null', '?', 'NaN'],'0')\n",
    "df = df.dropna()"
   ]
  },
  {
   "cell_type": "code",
   "execution_count": 12,
   "id": "998fea95",
   "metadata": {
    "ExecuteTime": {
     "end_time": "2022-05-18T07:54:00.338759Z",
     "start_time": "2022-05-18T07:53:57.920722Z"
    }
   },
   "outputs": [],
   "source": [
    "label_encoder = LabelEncoder()\n",
    "df['Date'] = label_encoder.fit_transform(df['Date'])\n",
    "df['Time'] = label_encoder.fit_transform(df['Time'])\n",
    "df=df.drop(['Time'], axis=1)\n",
    "\n",
    "total = df.iloc\n",
    "\n",
    "\n",
    "df=df.astype(float)\n",
    "#df=df.groupby('Date',as_index =False, sort=False).sum()"
   ]
  },
  {
   "cell_type": "code",
   "execution_count": 13,
   "id": "f0fac475",
   "metadata": {
    "ExecuteTime": {
     "end_time": "2022-05-18T07:54:01.602079Z",
     "start_time": "2022-05-18T07:54:01.268164Z"
    }
   },
   "outputs": [
    {
     "name": "stdout",
     "output_type": "stream",
     "text": [
      "1.0\n",
      "18.0\n"
     ]
    }
   ],
   "source": [
    "df['y'] = df.iloc[:,-3:].astype(float).sum(axis=1)\n",
    "#♦df.drop(['Sub_metering_1', 'Sub_metering_2', 'Sub_metering_3'], axis=1)\n",
    "df = df[df.y != 0]\n",
    "y = df['y']\n",
    "X = df.iloc[:,:-4]\n",
    "\n",
    "\n",
    "Q1 = np.quantile(y, 0.25)\n",
    "Q3 = np.quantile(y, 0.75)\n",
    "\n",
    "print(Q1)\n",
    "print(Q3)\n"
   ]
  },
  {
   "cell_type": "code",
   "execution_count": null,
   "id": "5062c739",
   "metadata": {
    "ExecuteTime": {
     "start_time": "2022-05-18T07:54:02.600Z"
    }
   },
   "outputs": [],
   "source": [
    "X_train, X_test, y_train, y_test = train_test_split(X, y, test_size=.30)\n",
    "scaler = StandardScaler()\n",
    "X_train = scaler.fit_transform(X_train)#scaling our training data\n",
    "X_test = scaler.transform(X_test)#transform data zodat mean = 0 & standard diviation = 1\n",
    "y_train = scale(y_train)\n",
    "y_test = scale(y_test)\n",
    "\n",
    "\n",
    "lsvr = LinearSVR(max_iter=100000)\n",
    "#print(lsvr)\n",
    "\n",
    "lsvr.fit(X_train, y_train)\n",
    "\n",
    "score = lsvr.score(X_train, y_train)\n",
    "print(\"R-squared:\", score)#\n",
    "\n",
    "cv_score = cross_val_score(lsvr, X_train, y_train)\n",
    "print(\"CV mean score: \", cv_score.mean())\n",
    "\n",
    "y_pred = lsvr.predict(X_test)\n",
    "\n",
    "mse = mean_squared_error(y_test, y_pred)\n",
    "mae = mean_absolute_error(y_test, y_pred)\n",
    "print(\"MSE: \", mse)\n",
    "print(\"MAE: \", mae)\n",
    "print(\"RMSE: \", mse*(1/2.0))"
   ]
  },
  {
   "cell_type": "code",
   "execution_count": null,
   "id": "7005e65f",
   "metadata": {
    "ExecuteTime": {
     "start_time": "2022-05-18T07:54:06.269Z"
    }
   },
   "outputs": [],
   "source": [
    "X_ax = range(len(y_test))\n",
    "plt.rcParams[\"figure.figsize\"] = (15,10)\n",
    "plt.plot(X_ax, y_test, linewidth=1, label=\"original\")\n",
    "plt.plot(X_ax, y_pred, linewidth=1.1, label=\"predicted\")\n",
    "plt.title(\"y-test and y-predicted data\")\n",
    "plt.legend()\n",
    "plt.show()\n"
   ]
  },
  {
   "cell_type": "code",
   "execution_count": null,
   "id": "9f160ee4",
   "metadata": {},
   "outputs": [],
   "source": []
  }
 ],
 "metadata": {
  "kernelspec": {
   "display_name": "Python 3 (ipykernel)",
   "language": "python",
   "name": "python3"
  },
  "language_info": {
   "codemirror_mode": {
    "name": "ipython",
    "version": 3
   },
   "file_extension": ".py",
   "mimetype": "text/x-python",
   "name": "python",
   "nbconvert_exporter": "python",
   "pygments_lexer": "ipython3",
   "version": "3.8.11"
  }
 },
 "nbformat": 4,
 "nbformat_minor": 5
}
