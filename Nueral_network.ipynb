{
 "cells": [
  {
   "cell_type": "code",
   "execution_count": 1,
   "id": "ad744612",
   "metadata": {},
   "outputs": [
    {
     "name": "stdout",
     "output_type": "stream",
     "text": [
      "Simple neural network sprint 1\n"
     ]
    }
   ],
   "source": [
    "print('Simple neural network sprint 1')\n",
    "from dataclasses import dataclass # for neural network construction\n",
    "import pickle                     \n",
    "import gzip                       \n",
    "import random                     # to initialize weights and biases\n",
    "import numpy as np                # for all needed math\n",
    "from PIL import Image, ImageOps   \n",
    "from time import time            "
   ]
  },
  {
   "cell_type": "code",
   "execution_count": 2,
   "id": "61339654",
   "metadata": {},
   "outputs": [],
   "source": [
    "def sigmoid(z):\n",
    "    return 1.0 / (1.0 + np.exp(-z))"
   ]
  },
  {
   "cell_type": "code",
   "execution_count": 3,
   "id": "09bb6e4b",
   "metadata": {},
   "outputs": [],
   "source": [
    "def sigmoid_prime(z):\n",
    "    return sigmoid(z) * (1 - sigmoid(z))\n"
   ]
  },
  {
   "cell_type": "code",
   "execution_count": 4,
   "id": "283f8582",
   "metadata": {},
   "outputs": [],
   "source": [
    "def cost_derivative(output_activations, y):\n",
    "    return (output_activations - y)"
   ]
  },
  {
   "cell_type": "code",
   "execution_count": 5,
   "id": "0fca626b",
   "metadata": {},
   "outputs": [],
   "source": [
    "#Lets move to the nueral network\n"
   ]
  },
  {
   "cell_type": "code",
   "execution_count": 6,
   "id": "e7711aaf",
   "metadata": {},
   "outputs": [],
   "source": [
    "@dataclass\n",
    "class Network:\n",
    "    num_layers: int\n",
    "    biases: list\n",
    "    weights: list\n",
    "\n",
    "def init_network(layers):\n",
    "    \n",
    "    return Network(\n",
    "        len(layers),\n",
    "        \n",
    "        # input layer doesn't have biases\n",
    "        [np.random.randn(y, 1) for y in layers[1:]],\n",
    "        \n",
    "        # there are no (weighted) connections into input layer or out of the output layer\n",
    "        [np.random.randn(y, x) for x, y in zip(layers[:-1], layers[1:])]\n",
    "    )"
   ]
  },
  {
   "cell_type": "code",
   "execution_count": 7,
   "id": "8c11fefb",
   "metadata": {},
   "outputs": [],
   "source": [
    "#Forward propagation function\n",
    "#Calculates activation vector for each layer and returns the last activation vector as ndarray."
   ]
  },
  {
   "cell_type": "code",
   "execution_count": 8,
   "id": "5ccbe961",
   "metadata": {},
   "outputs": [],
   "source": [
    "def feedforward(nn, a):\n",
    "    for b, w in zip(nn.biases, nn.weights):\n",
    "        a = sigmoid(np.dot(w, a) + b)\n",
    "    return a"
   ]
  },
  {
   "cell_type": "code",
   "execution_count": 9,
   "id": "c6bd9083",
   "metadata": {},
   "outputs": [],
   "source": [
    "def evaluate(nn, test_data):\n",
    "    test_results = [(np.argmax(feedforward(nn, x)), y) for (x, y) in test_data]\n",
    "    \n",
    "    return sum(int(x == y) for (x, y) in test_results) # This function is used to evaluate"
   ]
  },
  {
   "cell_type": "code",
   "execution_count": 10,
   "id": "e650674a",
   "metadata": {},
   "outputs": [],
   "source": [
    "def learn(nn, training_data, epochs, mini_batch_size, learning_rate, test_data = None):\n",
    "    n = len(training_data)\n",
    "\n",
    "    for j in range(epochs):\n",
    "        random.shuffle(training_data) #stochastic\n",
    "\n",
    "        mini_batches = [\n",
    "            training_data[k: k + mini_batch_size] for k in range(0, n, mini_batch_size)\n",
    "        ]\n",
    "        \n",
    "        for mini_batch in mini_batches:\n",
    "            stochastic_gradient_descent(nn, mini_batch, learning_rate) # that's where learning really happes\n",
    "\n",
    "        if test_data:\n",
    "            print('Epoch {0}: accuracy {1}%'.format(f'{j + 1:2}', 100.0 * evaluate(nn, test_data) / len(test_data)))\n",
    "        else:\n",
    "            print('Epoch {0} complete.'.format(f'{j + 1:2}'))"
   ]
  },
  {
   "cell_type": "code",
   "execution_count": 11,
   "id": "8f8de4e6",
   "metadata": {},
   "outputs": [],
   "source": [
    "# epoch is the number of times model passes thepugh training dataset."
   ]
  },
  {
   "cell_type": "code",
   "execution_count": 12,
   "id": "180eac11",
   "metadata": {},
   "outputs": [],
   "source": [
    "# now lets build the worker function "
   ]
  },
  {
   "cell_type": "code",
   "execution_count": 14,
   "id": "c8e351d3",
   "metadata": {},
   "outputs": [],
   "source": [
    "def stochastic_gradient_descent(nn, mini_batch, eta):\n",
    "    # gradient symbol nabla\n",
    "    nabla_b = [np.zeros(b.shape) for b in nn.biases]\n",
    "    nabla_w = [np.zeros(w.shape) for w in nn.weights]\n",
    "    \n",
    "    for x, y in mini_batch:\n",
    "        delta_nabla_b, delta_nabla_w = backprop(nn, x, y) \n",
    "        \n",
    "  \n",
    "\n",
    "        nabla_b = [nb + dnb for nb, dnb in zip(nabla_b, delta_nabla_b)]\n",
    "        nabla_w = [nw + dnw for nw, dnw in zip(nabla_w, delta_nabla_w)]\n",
    "\n",
    "        \n",
    "    nn.weights = [w - (eta / len(mini_batch)) * nw for w, nw in zip(nn.weights, nabla_w)]\n",
    "    nn.biases  = [b - (eta / len(mini_batch)) * nb for b, nb in zip(nn.biases, nabla_b)]"
   ]
  },
  {
   "cell_type": "code",
   "execution_count": 15,
   "id": "1261184a",
   "metadata": {},
   "outputs": [],
   "source": [
    "# BACKPROPOGATION"
   ]
  },
  {
   "cell_type": "code",
   "execution_count": 16,
   "id": "31018ca7",
   "metadata": {},
   "outputs": [],
   "source": [
    "def backprop(nn, x, y):\n",
    "    nabla_b = [np.zeros(b.shape) for b in nn.biases]\n",
    "    nabla_w = [np.zeros(w.shape) for w in nn.weights]\n",
    "\n",
    "    # feedforward\n",
    "    activation = x    # first layer activation is just its input\n",
    "    activations = [x] # list to store all activations, layer by layer\n",
    "    zs = []           # list to store all z vectors, layer by layer\n",
    "\n",
    "    for b, w in zip(nn.biases, nn.weights):\n",
    "        z = np.dot(w, activation) + b  # calculate z for the current layer\n",
    "        zs.append(z)                   # store\n",
    "        activation = sigmoid(z)        # layer output\n",
    "        activations.append(activation) # store\n",
    "\n",
    "    # backward pass\n",
    "\n",
    "    # 1. starting from the output layer\n",
    "    delta = cost_derivative(activations[-1], y) * sigmoid_prime(zs[-1]) \n",
    "    nabla_b[-1] = delta\n",
    "    nabla_w[-1] = np.dot(delta, activations[-2].transpose())\n",
    "\n",
    "    # 2. continue back to the input layer (i is the layer index, we're using i instead of l\n",
    "    #    to improve readability -- l looks too much like 1)\n",
    "    for i in range(2, nn.num_layers): # starting from the next-to-last layer\n",
    "        z = zs[-i]\n",
    "        sp = sigmoid_prime(z)\n",
    "        delta = np.dot(nn.weights[-i + 1].transpose(), delta) * sp\n",
    "        \n",
    "        nabla_b[-i] = delta\n",
    "        nabla_w[-i] = np.dot(delta, activations[-i - 1].transpose())\n",
    "        \n",
    "    return (nabla_b, nabla_w)"
   ]
  },
  {
   "cell_type": "code",
   "execution_count": 17,
   "id": "df6a65fb",
   "metadata": {},
   "outputs": [],
   "source": [
    "# Now this model is ready to be fed with model data generated by other team members."
   ]
  },
  {
   "cell_type": "code",
   "execution_count": null,
   "id": "45e06467",
   "metadata": {},
   "outputs": [],
   "source": []
  }
 ],
 "metadata": {
  "kernelspec": {
   "display_name": "Python 3 (ipykernel)",
   "language": "python",
   "name": "python3"
  },
  "language_info": {
   "codemirror_mode": {
    "name": "ipython",
    "version": 3
   },
   "file_extension": ".py",
   "mimetype": "text/x-python",
   "name": "python",
   "nbconvert_exporter": "python",
   "pygments_lexer": "ipython3",
   "version": "3.8.10"
  }
 },
 "nbformat": 4,
 "nbformat_minor": 5
}
