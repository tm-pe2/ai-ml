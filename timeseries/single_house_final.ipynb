{
 "cells": [
  {
   "cell_type": "markdown",
   "id": "433066f6-378e-4fc6-b26e-efe0e8a03abe",
   "metadata": {},
   "source": [
    "# Energy consumption of single household with yearly seasonality"
   ]
  },
  {
   "cell_type": "code",
   "execution_count": 1,
   "id": "1543418e-bb09-445c-80a1-98bdf1b84f31",
   "metadata": {},
   "outputs": [],
   "source": [
    "import pandas as pd\n",
    "import numpy as np\n",
    "import matplotlib.pyplot as plt\n",
    "from sklearn.preprocessing import StandardScaler\n",
    "from sklearn.ensemble import RandomForestRegressor\n",
    "from sklearn.linear_model import LinearRegression\n",
    "from sklearn.linear_model import Ridge\n",
    "from sklearn.preprocessing import OneHotEncoder, PolynomialFeatures\n",
    "from sklearn.metrics import mean_absolute_error"
   ]
  },
  {
   "cell_type": "code",
   "execution_count": 2,
   "id": "e4f3c70a-76f4-4d71-b150-7233628922a7",
   "metadata": {},
   "outputs": [
    {
     "ename": "FileNotFoundError",
     "evalue": "[Errno 2] No such file or directory: '../../data/synthetic/ts_dayly_averaged.csv'",
     "output_type": "error",
     "traceback": [
      "\u001b[0;31m---------------------------------------------------------------------------\u001b[0m",
      "\u001b[0;31mFileNotFoundError\u001b[0m                         Traceback (most recent call last)",
      "Input \u001b[0;32mIn [2]\u001b[0m, in \u001b[0;36m<cell line: 1>\u001b[0;34m()\u001b[0m\n\u001b[0;32m----> 1\u001b[0m full_data \u001b[38;5;241m=\u001b[39m \u001b[43mpd\u001b[49m\u001b[38;5;241;43m.\u001b[39;49m\u001b[43mread_csv\u001b[49m\u001b[43m(\u001b[49m\u001b[38;5;124;43m\"\u001b[39;49m\u001b[38;5;124;43m../../data/synthetic/ts_dayly_averaged.csv\u001b[39;49m\u001b[38;5;124;43m\"\u001b[39;49m\u001b[43m)\u001b[49m\n\u001b[1;32m      2\u001b[0m \u001b[38;5;66;03m# full_data = pd.read_csv(\"../../data/synthetic/ts_weekly_averaged.csv\")\u001b[39;00m\n\u001b[1;32m      3\u001b[0m \u001b[38;5;28mprint\u001b[39m(\u001b[38;5;28mlen\u001b[39m(full_data))\n",
      "File \u001b[0;32m~/.config/miniconda3/envs/venv-synthetic/lib/python3.9/site-packages/pandas/util/_decorators.py:311\u001b[0m, in \u001b[0;36mdeprecate_nonkeyword_arguments.<locals>.decorate.<locals>.wrapper\u001b[0;34m(*args, **kwargs)\u001b[0m\n\u001b[1;32m    305\u001b[0m \u001b[38;5;28;01mif\u001b[39;00m \u001b[38;5;28mlen\u001b[39m(args) \u001b[38;5;241m>\u001b[39m num_allow_args:\n\u001b[1;32m    306\u001b[0m     warnings\u001b[38;5;241m.\u001b[39mwarn(\n\u001b[1;32m    307\u001b[0m         msg\u001b[38;5;241m.\u001b[39mformat(arguments\u001b[38;5;241m=\u001b[39marguments),\n\u001b[1;32m    308\u001b[0m         \u001b[38;5;167;01mFutureWarning\u001b[39;00m,\n\u001b[1;32m    309\u001b[0m         stacklevel\u001b[38;5;241m=\u001b[39mstacklevel,\n\u001b[1;32m    310\u001b[0m     )\n\u001b[0;32m--> 311\u001b[0m \u001b[38;5;28;01mreturn\u001b[39;00m \u001b[43mfunc\u001b[49m\u001b[43m(\u001b[49m\u001b[38;5;241;43m*\u001b[39;49m\u001b[43margs\u001b[49m\u001b[43m,\u001b[49m\u001b[43m \u001b[49m\u001b[38;5;241;43m*\u001b[39;49m\u001b[38;5;241;43m*\u001b[39;49m\u001b[43mkwargs\u001b[49m\u001b[43m)\u001b[49m\n",
      "File \u001b[0;32m~/.config/miniconda3/envs/venv-synthetic/lib/python3.9/site-packages/pandas/io/parsers/readers.py:680\u001b[0m, in \u001b[0;36mread_csv\u001b[0;34m(filepath_or_buffer, sep, delimiter, header, names, index_col, usecols, squeeze, prefix, mangle_dupe_cols, dtype, engine, converters, true_values, false_values, skipinitialspace, skiprows, skipfooter, nrows, na_values, keep_default_na, na_filter, verbose, skip_blank_lines, parse_dates, infer_datetime_format, keep_date_col, date_parser, dayfirst, cache_dates, iterator, chunksize, compression, thousands, decimal, lineterminator, quotechar, quoting, doublequote, escapechar, comment, encoding, encoding_errors, dialect, error_bad_lines, warn_bad_lines, on_bad_lines, delim_whitespace, low_memory, memory_map, float_precision, storage_options)\u001b[0m\n\u001b[1;32m    665\u001b[0m kwds_defaults \u001b[38;5;241m=\u001b[39m _refine_defaults_read(\n\u001b[1;32m    666\u001b[0m     dialect,\n\u001b[1;32m    667\u001b[0m     delimiter,\n\u001b[0;32m   (...)\u001b[0m\n\u001b[1;32m    676\u001b[0m     defaults\u001b[38;5;241m=\u001b[39m{\u001b[38;5;124m\"\u001b[39m\u001b[38;5;124mdelimiter\u001b[39m\u001b[38;5;124m\"\u001b[39m: \u001b[38;5;124m\"\u001b[39m\u001b[38;5;124m,\u001b[39m\u001b[38;5;124m\"\u001b[39m},\n\u001b[1;32m    677\u001b[0m )\n\u001b[1;32m    678\u001b[0m kwds\u001b[38;5;241m.\u001b[39mupdate(kwds_defaults)\n\u001b[0;32m--> 680\u001b[0m \u001b[38;5;28;01mreturn\u001b[39;00m \u001b[43m_read\u001b[49m\u001b[43m(\u001b[49m\u001b[43mfilepath_or_buffer\u001b[49m\u001b[43m,\u001b[49m\u001b[43m \u001b[49m\u001b[43mkwds\u001b[49m\u001b[43m)\u001b[49m\n",
      "File \u001b[0;32m~/.config/miniconda3/envs/venv-synthetic/lib/python3.9/site-packages/pandas/io/parsers/readers.py:575\u001b[0m, in \u001b[0;36m_read\u001b[0;34m(filepath_or_buffer, kwds)\u001b[0m\n\u001b[1;32m    572\u001b[0m _validate_names(kwds\u001b[38;5;241m.\u001b[39mget(\u001b[38;5;124m\"\u001b[39m\u001b[38;5;124mnames\u001b[39m\u001b[38;5;124m\"\u001b[39m, \u001b[38;5;28;01mNone\u001b[39;00m))\n\u001b[1;32m    574\u001b[0m \u001b[38;5;66;03m# Create the parser.\u001b[39;00m\n\u001b[0;32m--> 575\u001b[0m parser \u001b[38;5;241m=\u001b[39m \u001b[43mTextFileReader\u001b[49m\u001b[43m(\u001b[49m\u001b[43mfilepath_or_buffer\u001b[49m\u001b[43m,\u001b[49m\u001b[43m \u001b[49m\u001b[38;5;241;43m*\u001b[39;49m\u001b[38;5;241;43m*\u001b[39;49m\u001b[43mkwds\u001b[49m\u001b[43m)\u001b[49m\n\u001b[1;32m    577\u001b[0m \u001b[38;5;28;01mif\u001b[39;00m chunksize \u001b[38;5;129;01mor\u001b[39;00m iterator:\n\u001b[1;32m    578\u001b[0m     \u001b[38;5;28;01mreturn\u001b[39;00m parser\n",
      "File \u001b[0;32m~/.config/miniconda3/envs/venv-synthetic/lib/python3.9/site-packages/pandas/io/parsers/readers.py:933\u001b[0m, in \u001b[0;36mTextFileReader.__init__\u001b[0;34m(self, f, engine, **kwds)\u001b[0m\n\u001b[1;32m    930\u001b[0m     \u001b[38;5;28mself\u001b[39m\u001b[38;5;241m.\u001b[39moptions[\u001b[38;5;124m\"\u001b[39m\u001b[38;5;124mhas_index_names\u001b[39m\u001b[38;5;124m\"\u001b[39m] \u001b[38;5;241m=\u001b[39m kwds[\u001b[38;5;124m\"\u001b[39m\u001b[38;5;124mhas_index_names\u001b[39m\u001b[38;5;124m\"\u001b[39m]\n\u001b[1;32m    932\u001b[0m \u001b[38;5;28mself\u001b[39m\u001b[38;5;241m.\u001b[39mhandles: IOHandles \u001b[38;5;241m|\u001b[39m \u001b[38;5;28;01mNone\u001b[39;00m \u001b[38;5;241m=\u001b[39m \u001b[38;5;28;01mNone\u001b[39;00m\n\u001b[0;32m--> 933\u001b[0m \u001b[38;5;28mself\u001b[39m\u001b[38;5;241m.\u001b[39m_engine \u001b[38;5;241m=\u001b[39m \u001b[38;5;28;43mself\u001b[39;49m\u001b[38;5;241;43m.\u001b[39;49m\u001b[43m_make_engine\u001b[49m\u001b[43m(\u001b[49m\u001b[43mf\u001b[49m\u001b[43m,\u001b[49m\u001b[43m \u001b[49m\u001b[38;5;28;43mself\u001b[39;49m\u001b[38;5;241;43m.\u001b[39;49m\u001b[43mengine\u001b[49m\u001b[43m)\u001b[49m\n",
      "File \u001b[0;32m~/.config/miniconda3/envs/venv-synthetic/lib/python3.9/site-packages/pandas/io/parsers/readers.py:1217\u001b[0m, in \u001b[0;36mTextFileReader._make_engine\u001b[0;34m(self, f, engine)\u001b[0m\n\u001b[1;32m   1213\u001b[0m     mode \u001b[38;5;241m=\u001b[39m \u001b[38;5;124m\"\u001b[39m\u001b[38;5;124mrb\u001b[39m\u001b[38;5;124m\"\u001b[39m\n\u001b[1;32m   1214\u001b[0m \u001b[38;5;66;03m# error: No overload variant of \"get_handle\" matches argument types\u001b[39;00m\n\u001b[1;32m   1215\u001b[0m \u001b[38;5;66;03m# \"Union[str, PathLike[str], ReadCsvBuffer[bytes], ReadCsvBuffer[str]]\"\u001b[39;00m\n\u001b[1;32m   1216\u001b[0m \u001b[38;5;66;03m# , \"str\", \"bool\", \"Any\", \"Any\", \"Any\", \"Any\", \"Any\"\u001b[39;00m\n\u001b[0;32m-> 1217\u001b[0m \u001b[38;5;28mself\u001b[39m\u001b[38;5;241m.\u001b[39mhandles \u001b[38;5;241m=\u001b[39m \u001b[43mget_handle\u001b[49m\u001b[43m(\u001b[49m\u001b[43m  \u001b[49m\u001b[38;5;66;43;03m# type: ignore[call-overload]\u001b[39;49;00m\n\u001b[1;32m   1218\u001b[0m \u001b[43m    \u001b[49m\u001b[43mf\u001b[49m\u001b[43m,\u001b[49m\n\u001b[1;32m   1219\u001b[0m \u001b[43m    \u001b[49m\u001b[43mmode\u001b[49m\u001b[43m,\u001b[49m\n\u001b[1;32m   1220\u001b[0m \u001b[43m    \u001b[49m\u001b[43mencoding\u001b[49m\u001b[38;5;241;43m=\u001b[39;49m\u001b[38;5;28;43mself\u001b[39;49m\u001b[38;5;241;43m.\u001b[39;49m\u001b[43moptions\u001b[49m\u001b[38;5;241;43m.\u001b[39;49m\u001b[43mget\u001b[49m\u001b[43m(\u001b[49m\u001b[38;5;124;43m\"\u001b[39;49m\u001b[38;5;124;43mencoding\u001b[39;49m\u001b[38;5;124;43m\"\u001b[39;49m\u001b[43m,\u001b[49m\u001b[43m \u001b[49m\u001b[38;5;28;43;01mNone\u001b[39;49;00m\u001b[43m)\u001b[49m\u001b[43m,\u001b[49m\n\u001b[1;32m   1221\u001b[0m \u001b[43m    \u001b[49m\u001b[43mcompression\u001b[49m\u001b[38;5;241;43m=\u001b[39;49m\u001b[38;5;28;43mself\u001b[39;49m\u001b[38;5;241;43m.\u001b[39;49m\u001b[43moptions\u001b[49m\u001b[38;5;241;43m.\u001b[39;49m\u001b[43mget\u001b[49m\u001b[43m(\u001b[49m\u001b[38;5;124;43m\"\u001b[39;49m\u001b[38;5;124;43mcompression\u001b[39;49m\u001b[38;5;124;43m\"\u001b[39;49m\u001b[43m,\u001b[49m\u001b[43m \u001b[49m\u001b[38;5;28;43;01mNone\u001b[39;49;00m\u001b[43m)\u001b[49m\u001b[43m,\u001b[49m\n\u001b[1;32m   1222\u001b[0m \u001b[43m    \u001b[49m\u001b[43mmemory_map\u001b[49m\u001b[38;5;241;43m=\u001b[39;49m\u001b[38;5;28;43mself\u001b[39;49m\u001b[38;5;241;43m.\u001b[39;49m\u001b[43moptions\u001b[49m\u001b[38;5;241;43m.\u001b[39;49m\u001b[43mget\u001b[49m\u001b[43m(\u001b[49m\u001b[38;5;124;43m\"\u001b[39;49m\u001b[38;5;124;43mmemory_map\u001b[39;49m\u001b[38;5;124;43m\"\u001b[39;49m\u001b[43m,\u001b[49m\u001b[43m \u001b[49m\u001b[38;5;28;43;01mFalse\u001b[39;49;00m\u001b[43m)\u001b[49m\u001b[43m,\u001b[49m\n\u001b[1;32m   1223\u001b[0m \u001b[43m    \u001b[49m\u001b[43mis_text\u001b[49m\u001b[38;5;241;43m=\u001b[39;49m\u001b[43mis_text\u001b[49m\u001b[43m,\u001b[49m\n\u001b[1;32m   1224\u001b[0m \u001b[43m    \u001b[49m\u001b[43merrors\u001b[49m\u001b[38;5;241;43m=\u001b[39;49m\u001b[38;5;28;43mself\u001b[39;49m\u001b[38;5;241;43m.\u001b[39;49m\u001b[43moptions\u001b[49m\u001b[38;5;241;43m.\u001b[39;49m\u001b[43mget\u001b[49m\u001b[43m(\u001b[49m\u001b[38;5;124;43m\"\u001b[39;49m\u001b[38;5;124;43mencoding_errors\u001b[39;49m\u001b[38;5;124;43m\"\u001b[39;49m\u001b[43m,\u001b[49m\u001b[43m \u001b[49m\u001b[38;5;124;43m\"\u001b[39;49m\u001b[38;5;124;43mstrict\u001b[39;49m\u001b[38;5;124;43m\"\u001b[39;49m\u001b[43m)\u001b[49m\u001b[43m,\u001b[49m\n\u001b[1;32m   1225\u001b[0m \u001b[43m    \u001b[49m\u001b[43mstorage_options\u001b[49m\u001b[38;5;241;43m=\u001b[39;49m\u001b[38;5;28;43mself\u001b[39;49m\u001b[38;5;241;43m.\u001b[39;49m\u001b[43moptions\u001b[49m\u001b[38;5;241;43m.\u001b[39;49m\u001b[43mget\u001b[49m\u001b[43m(\u001b[49m\u001b[38;5;124;43m\"\u001b[39;49m\u001b[38;5;124;43mstorage_options\u001b[39;49m\u001b[38;5;124;43m\"\u001b[39;49m\u001b[43m,\u001b[49m\u001b[43m \u001b[49m\u001b[38;5;28;43;01mNone\u001b[39;49;00m\u001b[43m)\u001b[49m\u001b[43m,\u001b[49m\n\u001b[1;32m   1226\u001b[0m \u001b[43m\u001b[49m\u001b[43m)\u001b[49m\n\u001b[1;32m   1227\u001b[0m \u001b[38;5;28;01massert\u001b[39;00m \u001b[38;5;28mself\u001b[39m\u001b[38;5;241m.\u001b[39mhandles \u001b[38;5;129;01mis\u001b[39;00m \u001b[38;5;129;01mnot\u001b[39;00m \u001b[38;5;28;01mNone\u001b[39;00m\n\u001b[1;32m   1228\u001b[0m f \u001b[38;5;241m=\u001b[39m \u001b[38;5;28mself\u001b[39m\u001b[38;5;241m.\u001b[39mhandles\u001b[38;5;241m.\u001b[39mhandle\n",
      "File \u001b[0;32m~/.config/miniconda3/envs/venv-synthetic/lib/python3.9/site-packages/pandas/io/common.py:789\u001b[0m, in \u001b[0;36mget_handle\u001b[0;34m(path_or_buf, mode, encoding, compression, memory_map, is_text, errors, storage_options)\u001b[0m\n\u001b[1;32m    784\u001b[0m \u001b[38;5;28;01melif\u001b[39;00m \u001b[38;5;28misinstance\u001b[39m(handle, \u001b[38;5;28mstr\u001b[39m):\n\u001b[1;32m    785\u001b[0m     \u001b[38;5;66;03m# Check whether the filename is to be opened in binary mode.\u001b[39;00m\n\u001b[1;32m    786\u001b[0m     \u001b[38;5;66;03m# Binary mode does not support 'encoding' and 'newline'.\u001b[39;00m\n\u001b[1;32m    787\u001b[0m     \u001b[38;5;28;01mif\u001b[39;00m ioargs\u001b[38;5;241m.\u001b[39mencoding \u001b[38;5;129;01mand\u001b[39;00m \u001b[38;5;124m\"\u001b[39m\u001b[38;5;124mb\u001b[39m\u001b[38;5;124m\"\u001b[39m \u001b[38;5;129;01mnot\u001b[39;00m \u001b[38;5;129;01min\u001b[39;00m ioargs\u001b[38;5;241m.\u001b[39mmode:\n\u001b[1;32m    788\u001b[0m         \u001b[38;5;66;03m# Encoding\u001b[39;00m\n\u001b[0;32m--> 789\u001b[0m         handle \u001b[38;5;241m=\u001b[39m \u001b[38;5;28;43mopen\u001b[39;49m\u001b[43m(\u001b[49m\n\u001b[1;32m    790\u001b[0m \u001b[43m            \u001b[49m\u001b[43mhandle\u001b[49m\u001b[43m,\u001b[49m\n\u001b[1;32m    791\u001b[0m \u001b[43m            \u001b[49m\u001b[43mioargs\u001b[49m\u001b[38;5;241;43m.\u001b[39;49m\u001b[43mmode\u001b[49m\u001b[43m,\u001b[49m\n\u001b[1;32m    792\u001b[0m \u001b[43m            \u001b[49m\u001b[43mencoding\u001b[49m\u001b[38;5;241;43m=\u001b[39;49m\u001b[43mioargs\u001b[49m\u001b[38;5;241;43m.\u001b[39;49m\u001b[43mencoding\u001b[49m\u001b[43m,\u001b[49m\n\u001b[1;32m    793\u001b[0m \u001b[43m            \u001b[49m\u001b[43merrors\u001b[49m\u001b[38;5;241;43m=\u001b[39;49m\u001b[43merrors\u001b[49m\u001b[43m,\u001b[49m\n\u001b[1;32m    794\u001b[0m \u001b[43m            \u001b[49m\u001b[43mnewline\u001b[49m\u001b[38;5;241;43m=\u001b[39;49m\u001b[38;5;124;43m\"\u001b[39;49m\u001b[38;5;124;43m\"\u001b[39;49m\u001b[43m,\u001b[49m\n\u001b[1;32m    795\u001b[0m \u001b[43m        \u001b[49m\u001b[43m)\u001b[49m\n\u001b[1;32m    796\u001b[0m     \u001b[38;5;28;01melse\u001b[39;00m:\n\u001b[1;32m    797\u001b[0m         \u001b[38;5;66;03m# Binary mode\u001b[39;00m\n\u001b[1;32m    798\u001b[0m         handle \u001b[38;5;241m=\u001b[39m \u001b[38;5;28mopen\u001b[39m(handle, ioargs\u001b[38;5;241m.\u001b[39mmode)\n",
      "\u001b[0;31mFileNotFoundError\u001b[0m: [Errno 2] No such file or directory: '../../data/synthetic/ts_dayly_averaged.csv'"
     ]
    }
   ],
   "source": [
    "full_data = pd.read_csv(\"../../data/synthetic/ts_dayly_averaged.csv\")\n",
    "# full_data = pd.read_csv(\"../../data/synthetic/ts_weekly_averaged.csv\")\n",
    "print(len(full_data))"
   ]
  },
  {
   "cell_type": "code",
   "execution_count": null,
   "id": "8cd31068-6f25-4f4e-81fe-9781a1855255",
   "metadata": {},
   "outputs": [],
   "source": [
    "full_data.head()"
   ]
  },
  {
   "cell_type": "code",
   "execution_count": null,
   "id": "45f2b0e7-9d79-43c1-9cc1-a70a4ad760dc",
   "metadata": {},
   "outputs": [],
   "source": [
    "data_frame = full_data.drop(columns=['Index']).copy()"
   ]
  },
  {
   "cell_type": "code",
   "execution_count": null,
   "id": "684782ee-3826-41db-ae43-594e3435f820",
   "metadata": {},
   "outputs": [],
   "source": [
    "plt.figure(figsize=(40,20), dpi=40)\n",
    "plt.locator_params(axis='x', nbins=3)\n",
    "x_ticks = np.arange(0, len(data_frame[\"Time\"]), 200)\n",
    "plt.xticks(x_ticks)\n",
    "plt.xticks(fontsize=40)\n",
    "plt.yticks(fontsize=40)\n",
    "plt.plot(data_frame[\"Time\"], data_frame[\"Energy\"])\n",
    "plt.xlabel(\"Date\", fontsize=40)\n",
    "plt.ylabel(\"Energy Consumption (kW-h)\", fontsize=40)\n",
    "plt.title(\"Energy Consumption Single French Household along 4 years\", fontsize=40)\n",
    "plt.show()"
   ]
  },
  {
   "cell_type": "code",
   "execution_count": null,
   "id": "454f183a-0892-4b83-88af-b73c1f2ea334",
   "metadata": {},
   "outputs": [],
   "source": [
    "# We observed from the above plot that the trend, seasonality and periodicity can be identified. The irregularity are mostly given by the outliers."
   ]
  },
  {
   "cell_type": "markdown",
   "id": "de17154f-f428-4d7e-b2ab-b20d83a48a59",
   "metadata": {},
   "source": [
    "# Rolling Statistics\n"
   ]
  },
  {
   "cell_type": "code",
   "execution_count": null,
   "id": "aa410c74-a189-41f3-8ed0-9bff028f47d1",
   "metadata": {},
   "outputs": [],
   "source": [
    "rollmean = data_frame[\"Energy\"].rolling(window=365).mean()\n",
    "rollstd = data_frame[\"Energy\"].rolling(window=365).std()\n",
    "# rollmean = data_frame[\"Energy\"].rolling(window=52).mean()\n",
    "# rollstd = data_frame[\"Energy\"].rolling(window=52).std()"
   ]
  },
  {
   "cell_type": "code",
   "execution_count": null,
   "id": "fa907116-d77f-4f5a-ad2b-d4dcf6f84c94",
   "metadata": {},
   "outputs": [],
   "source": [
    "plt.figure(figsize=(40,20), dpi=40)\n",
    "plt.locator_params(axis='x', nbins=3)\n",
    "x_ticks = np.arange(0, len(full_data[\"Time\"]), 200)\n",
    "plt.xticks(x_ticks)\n",
    "plt.xticks(fontsize=40)\n",
    "plt.yticks(fontsize=40)\n",
    "plt.plot(data_frame[\"Time\"], data_frame[\"Energy\"], label='Original', linewidth='5')\n",
    "mean = plt.plot(data_frame[\"Time\"], rollmean, '-p', color='red', label='Rolling Mean', linewidth='5')\n",
    "std = plt.plot(data_frame[\"Time\"], rollstd, '-p', color='white', label='Rolling Std', linewidth='5')\n",
    "plt.xlabel(\"Date\", fontsize=40)\n",
    "plt.ylabel(\"Energy Consumption (kW-h)\", fontsize=40)\n",
    "plt.title(\"Energy Consumption Single French Household along 4 years\", fontsize=40)\n",
    "plt.legend(loc='best', fontsize=40)\n",
    "plt.show()"
   ]
  },
  {
   "cell_type": "code",
   "execution_count": null,
   "id": "496b4663-0785-4570-a7c9-c909e20d1ec0",
   "metadata": {},
   "outputs": [],
   "source": [
    "# Also we notice that the data show a stationary behaviour (there is not overall increase or decrease)\n",
    "# The mean and standard deviation show that there is no significant trend across the yearly seasons"
   ]
  },
  {
   "cell_type": "markdown",
   "id": "c240b9cf-47a0-4742-8b29-26b43b866315",
   "metadata": {},
   "source": [
    "## Outliers treatment"
   ]
  },
  {
   "cell_type": "code",
   "execution_count": null,
   "id": "2603a0a0-138d-48c1-b75a-f9d74a1ef2e6",
   "metadata": {},
   "outputs": [],
   "source": [
    "# Find better colors to visualize the boxplot\n",
    "plt.figure(figsize=(30,20), dpi=40)\n",
    "plt.boxplot(data_frame['Energy'])\n",
    "plt.xticks(fontsize=40)\n",
    "plt.yticks(fontsize=40)\n",
    "plt.title(\"Outliers Identification\", fontsize=40)\n",
    "plt.show()\n",
    "print(data_frame[\"Energy\"].mean())"
   ]
  },
  {
   "cell_type": "code",
   "execution_count": null,
   "id": "b03e2fcb-adc7-49e2-a63a-1a2855befbd9",
   "metadata": {},
   "outputs": [],
   "source": [
    "energy_cutoff = 3.5\n",
    "# The following condition returns a boolean array and the sum() call adds only the true conditions\n",
    "outliers_number = (data_frame[\"Energy\"] > energy_cutoff).sum()\n",
    "outliers_density = outliers_number/len(data_frame[\"Energy\"])\n",
    "print(f\"The number of outliers is {outliers_number} and the outliers density is: {outliers_density}\")"
   ]
  },
  {
   "cell_type": "code",
   "execution_count": null,
   "id": "8cf67268-8acf-4323-8c95-3115e8f2b5f2",
   "metadata": {},
   "outputs": [],
   "source": [
    "# Outliers removal\n",
    "data_frame.loc[data_frame.Energy > energy_cutoff, \"Energy\"] = data_frame[\"Energy\"].mean()\n",
    "plt.figure(figsize=(30,20), dpi=40)\n",
    "plt.boxplot(data_frame['Energy'])\n",
    "plt.xticks(fontsize=40)\n",
    "plt.yticks(fontsize=40)\n",
    "plt.title(\"Outliers Removal\", fontsize=40)\n",
    "plt.show()"
   ]
  },
  {
   "cell_type": "code",
   "execution_count": null,
   "id": "492c843f-e5d8-483c-9acb-2402664d3a4a",
   "metadata": {},
   "outputs": [],
   "source": [
    "plt.figure(figsize=(40,20), dpi=40)\n",
    "plt.locator_params(axis='x', nbins=3)\n",
    "x_ticks = np.arange(0, len(full_data[\"Time\"]), 200)\n",
    "plt.xticks(x_ticks)\n",
    "plt.xticks(fontsize=40)\n",
    "plt.yticks(fontsize=40)\n",
    "plt.plot(data_frame[\"Time\"], data_frame[\"Energy\"], label='Original', linewidth='5')\n",
    "mean = plt.plot(data_frame[\"Time\"], rollmean, '-p', color='red', label='Rolling Mean', linewidth='5')\n",
    "std = plt.plot(data_frame[\"Time\"], rollstd, '-p', color='white', label='Rolling Std', linewidth='5')\n",
    "plt.xlabel(\"Date\", fontsize=40)\n",
    "plt.ylabel(\"Energy Consumption (kW-h)\", fontsize=40)\n",
    "plt.title(\"Energy Consumption Single French Household along 4 years\", fontsize=40)\n",
    "plt.legend(loc='best', fontsize=40)\n",
    "plt.show()"
   ]
  },
  {
   "cell_type": "markdown",
   "id": "46d1b0f8-509c-44f6-a51c-4faf30771154",
   "metadata": {},
   "source": [
    "## Normalization, Split and Model Training"
   ]
  },
  {
   "cell_type": "code",
   "execution_count": null,
   "id": "a0572083-b33c-4c2c-987e-6c957d4c2227",
   "metadata": {},
   "outputs": [],
   "source": [
    "# We generate new features from the timestap column\n",
    "data_frame['Day'] = pd.DatetimeIndex(data_frame['Time'], dayfirst=True).day\n",
    "data_frame['DayOfWeek'] = pd.DatetimeIndex(data_frame['Time'], dayfirst=True).dayofweek\n",
    "data_frame['Quarter'] = pd.DatetimeIndex(data_frame['Time'], dayfirst=True).quarter\n",
    "data_frame['Month'] = pd.DatetimeIndex(data_frame['Time'], dayfirst=True).month\n",
    "data_frame['Year'] = pd.DatetimeIndex(data_frame['Time'], dayfirst=True).year\n",
    "data_frame['WeekOfYear'] = pd.DatetimeIndex(data_frame['Time'], dayfirst=True).weekofyear\n",
    "data_frame['DayOfYear'] = pd.DatetimeIndex(data_frame['Time'], dayfirst=True).dayofyear\n",
    "y_pre = data_frame.Energy.values\n",
    "# We will use Standard Scaling because the data is not evenly distributed\n",
    "scaler = StandardScaler()\n",
    "y = scaler.fit_transform(y_pre.reshape(-1, 1))\n",
    "# The size of the training dataset\n",
    "n_train = 1095   # 3 years (365 * 3 = 1095 days)\n",
    "# n_train = 156   # 3 years (365 * 3 / 7 = 156 weeks)\n",
    "data_frame.head()"
   ]
  },
  {
   "cell_type": "code",
   "execution_count": null,
   "id": "7619d395-4f05-4b5b-bf05-a1a540c723fa",
   "metadata": {},
   "outputs": [],
   "source": [
    "def eval_on_features(features, target, regressor):\n",
    "    X_train, X_test = features[:n_train], features[n_train:]\n",
    "    y_train, y_test = target[:n_train], target[n_train:]\n",
    "    regressor.fit(X_train, y_train)\n",
    "    print(\"Test-set R^2: {:.2f}\".format(regressor.score(X_test, y_test)))\n",
    "    y_pred = regressor.predict(X_test)\n",
    "    y_pred_train = regressor.predict(X_train)\n",
    "    plt.figure(figsize=(40,20))\n",
    "    x_ticks = np.arange(0, len(full_data[\"Time\"]), 200)\n",
    "    plt.xticks(x_ticks)\n",
    "    plt.xticks(fontsize=40)\n",
    "    # plt.xticks(range(0, len(X_day_month), 200), fontsize=40, rotation=90, ha=\"left\")\n",
    "    plt.yticks(fontsize=40)\n",
    "    plt.plot(range(n_train), y_train, label=\"train\", linewidth=5)\n",
    "    plt.plot(range(n_train, len(y_test) + n_train), y_test, '-', label=\"test\", linewidth=5)\n",
    "    plt.plot(range(n_train), y_pred_train, '--', label=\"prediction train\", linewidth=5)\n",
    "    plt.plot(range(n_train, len(y_test) + n_train), y_pred, '--', label=\"prediction test\", linewidth=5)\n",
    "    plt.legend(loc=(0.7,0.7), fontsize=40)\n",
    "    print(mean_absolute_error(y_test, y_pred))"
   ]
  },
  {
   "cell_type": "code",
   "execution_count": null,
   "id": "c95871e0-db98-4b77-9a64-8e4af75e88b2",
   "metadata": {},
   "outputs": [],
   "source": [
    "# Model training\n",
    "X_day_month = np.hstack([data_frame.Day.values.reshape(-1,1), \n",
    "                         data_frame.DayOfWeek.values.reshape(-1,1),\n",
    "                         data_frame.Quarter.values.reshape(-1,1),\n",
    "                         data_frame.Month.values.reshape(-1,1),\n",
    "                         data_frame.Year.values.reshape(-1,1),\n",
    "                         data_frame.WeekOfYear.values.reshape(-1,1),\n",
    "                         data_frame.DayOfYear.values.reshape(-1,1)])\n",
    "regressor = RandomForestRegressor(n_estimators=100, random_state=0)\n",
    "eval_on_features(X_day_month, y.ravel(), regressor)\n"
   ]
  },
  {
   "cell_type": "code",
   "execution_count": null,
   "id": "bde5c315-9f13-45fd-9aec-9e037dee535e",
   "metadata": {},
   "outputs": [],
   "source": [
    "enc = OneHotEncoder()\n",
    "X_day_month_onehot = enc.fit_transform(X_day_month).toarray()\n",
    "eval_on_features(X_day_month_onehot, y.ravel(), Ridge())"
   ]
  },
  {
   "cell_type": "markdown",
   "id": "b8466335-fea4-4160-96e9-1b90ee12ff3b",
   "metadata": {},
   "source": [
    "## Conclusion\n",
    "- Predictions graphically seem to be quite ok, but the R-scores still low?! why? (maybe wrong metric?)\n",
    "- Include mean error to better describe the model"
   ]
  }
 ],
 "metadata": {
  "kernelspec": {
   "display_name": "Python 3",
   "language": "python",
   "name": "python3"
  },
  "language_info": {
   "codemirror_mode": {
    "name": "ipython",
    "version": 3
   },
   "file_extension": ".py",
   "mimetype": "text/x-python",
   "name": "python",
   "nbconvert_exporter": "python",
   "pygments_lexer": "ipython3",
   "version": "3.9.11"
  }
 },
 "nbformat": 4,
 "nbformat_minor": 5
}
