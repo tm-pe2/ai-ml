import pandas as pd
import numpy as np
import matplotlib.pyplot as plt


full_data = pd.read_csv("../../data/synthetic/time_series_single_household.csv")
print(len(full_data))


full_data.head(10)


data = full_data.drop(columns=['Index']).copy()


plt.figure(figsize=(40,20), dpi=40)
plt.locator_params(axis='x', nbins=3)
x_ticks = np.arange(0, len(data["Time"]), 200)
plt.xticks(x_ticks)
plt.xticks(fontsize=40)
plt.yticks(fontsize=40)
plt.plot(data["Time"], data["Energy"])
plt.xlabel("Date", fontsize=40)
plt.ylabel("Energy Consumption (kW-h)", fontsize=40)
plt.title("Energy Consumption Single French Household along 4 years", fontsize=40)
plt.show()


# We observed from the above plot that the trend, seasonality and periodicity can be identified. The irregularity are mostly given by the outliers.


rollmean = data["Energy"].rolling(window=365).mean()
rollstd = data["Energy"].rolling(window=365).std()
#print(rollmean, rollstd)


plt.figure(figsize=(40,20), dpi=40)
plt.locator_params(axis='x', nbins=3)
x_ticks = np.arange(0, len(full_data["Time"]), 200)
plt.xticks(x_ticks)
plt.xticks(fontsize=40)
plt.yticks(fontsize=40)
plt.plot(data["Time"], data["Energy"], label='Original', linewidth='5')
mean = plt.plot(data["Time"], rollmean, '-p', color='red', label='Rolling Mean', linewidth='5')
std = plt.plot(data["Time"], rollstd, '-p', color='white', label='Rolling Std', linewidth='5')
plt.xlabel("Date", fontsize=40)
plt.ylabel("Energy Consumption (kW-h)", fontsize=40)
plt.title("Energy Consumption Single French Household along 4 years", fontsize=40)
plt.legend(loc='best', fontsize=40)
plt.show()



# Also we notice that the data show a stationary behaviour (there is not overall increase or decrease)
# The mean and standard deviation show that there is no significant trend across the yearly seasons


# Find better colors to visualize the boxplot
plt.figure(figsize=(30,20), dpi=40)
plt.boxplot(data['Energy'])
plt.xticks(fontsize=40)
plt.yticks(fontsize=40)
plt.show()


# we have potentially 8 outliers, but clearly at least seven should be consider as outlier
max_value = 4.0
outliers_number = (data["Energy"] > max_value).sum()
# The condition returns a boolean array and the sum() call adds only the true conditions
outliers_density = outliers_number/len(data["Energy"])
print(f"The number of outliers is {outliers_number} and the outliers density is: {outliers_density}")


# for time series we should never split the data randomly! All the test data are the last points to consider
# We have 1442 days, one year will be for validation of hyperparameters and another year for test


Xtrain = data.iloc[0:712,:]
Xval = data.iloc[712:1077,:]
Xtest = data.iloc[1077:,:]


from sklearn.linear_model import LogisticRegression


gaussianx = np.linspace(0,20)
mu1, sigma1 = 10, 0.5
gaussiany1 = np.exp(-(gaussianx - mu1) ** 2 / 2 * sigma1)
mu2, sigma2 = 10, 1
gaussiany2 = np.exp(-(gaussianx - mu2) ** 2 / 2 * sigma2)
mu3, sigma3 = 10, 4
gaussiany3 = np.exp(-(gaussianx - mu3) ** 2 / 2 * sigma3)
plt.plot(gaussianx, gaussiany1, label="sigma=0.5")
plt.plot(gaussianx, gaussiany2, label="sigma=1")
plt.plot(gaussianx, gaussiany3, label="sigma=4")
plt.legend(loc="best")


# Assumption: every point has the same "gaussian influence" across a single month
# Here we define a monthly importance(decay) factor and the sigma hyperparameter
sigma = 1
nm = 12
m = np.zeros(shape=(1,nm))
for i in range(nm):
    m[0,i] = i


XtrainEngineered  = np.zeros(shape=(len(Xtrain),nm))
Identity = np.ones(shape=(1,nm))
for i in range(len(Xtrain)):
    XtrainEngineered[i,:] = np.exp(-(Xtrain["Energy"][i] * Identity - m) ** 2 / (2 * sigma))


xtemp = []
ytemp = []
for i in range(0,335,30):
    xtemp.append(Xtrain["Time"][i])
    ytemp.append(XtrainEngineered[i,:])
    
# We create the plot here to visualize the feature engineering effect
plt.figure(figsize=(40,20), dpi=40)
plt.locator_params(axis='x', nbins=3)
x_ticks = np.arange(0, 11, 2)
plt.xticks(x_ticks)
plt.xticks(fontsize=40)
plt.yticks(fontsize=40)
#plt.plot(data["Time"], data["Energy"], label='Original', linewidth='5')
plt.xlabel("Date", fontsize=40)
plt.ylabel("Energy Consumption (kW-h)", fontsize=40)
plt.title("Feature engineering of a point for every month in a year", fontsize=40)
#plt.legend(loc='best', fontsize=40)
for i in range(len(xtemp)):
    month = "Monht: " + str(i)
    plt.plot(xtemp, ytemp[i], linewidth='5', label=month)
plt.legend(loc='best', fontsize=40)
plt.show()
