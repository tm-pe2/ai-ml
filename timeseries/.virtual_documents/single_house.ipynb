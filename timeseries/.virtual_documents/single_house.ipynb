import pandas as pd
import numpy as np
import matplotlib.pyplot as plt


full_data = pd.read_csv("../../data/synthetic/time_series_single_household.csv")
print(len(full_data))


full_data.head(10)


data = full_data.drop(columns=['Index']).copy()


plt.figure(figsize=(40,20), dpi=40)
plt.locator_params(axis='x', nbins=3)
x_ticks = np.arange(0, len(data["Time"]), 200)
plt.xticks(x_ticks)
plt.xticks(fontsize=40)
plt.yticks(fontsize=40)
plt.plot(data["Time"], data["Energy"])
plt.xlabel("Date", fontsize=40)
plt.ylabel("Energy Consumption (kW-h)", fontsize=40)
plt.title("Energy Consumption Single French Household along 4 years", fontsize=40)
plt.show()


# We observed from the above plot that the trend, seasonality and periodicity can be identified. The irregularity are mostly given by the outliers.


rollmean = data["Energy"].rolling(window=365).mean()
rollstd = data["Energy"].rolling(window=365).std()
#print(rollmean, rollstd)


plt.figure(figsize=(40,20), dpi=40)
plt.locator_params(axis='x', nbins=3)
x_ticks = np.arange(0, len(full_data["Time"]), 200)
plt.xticks(x_ticks)
plt.xticks(fontsize=40)
plt.yticks(fontsize=40)
plt.plot(data["Time"], data["Energy"], label='Original')
mean = plt.plot(data["Time"], rollmean, '-p', color='red', label='Rolling Mean', linewidth='5')
std = plt.plot(data["Time"], rollstd, '-p', color='white', label='Rolling Std', linewidth='5')
plt.xlabel("Date", fontsize=40)
plt.ylabel("Energy Consumption (kW-h)", fontsize=40)
plt.title("Energy Consumption Single French Household along 4 years", fontsize=40)
plt.show()



# Also we notice that the data show a stationary behaviour (there is not overall increase or decrease)
# The mean and standard deviation show that there is no significant trend across the yearly seasons


# Find better colors to visualize the boxplot
plt.figure(figsize=(30,20), dpi=40)
plt.boxplot(data['Energy'])
plt.xticks(fontsize=40)
plt.yticks(fontsize=40)
plt.show()


# we have potentially 8 outliers, but clearly at least seven should be consider as outlier
max_value = 4.0
outliers_number = (data["Energy"] > max_value).sum()
# The condition returns a boolean array and the sum() call adds only the true conditions
outliers_density = outliers_number/len(data["Energy"])
print(f"The number of outliers is {outliers_number} and the outliers density is: {outliers_density}")


from sklearn.model_selection import train_test_split


train_size_percentage = 0.8
X = data.drop(columns=["Energy"]).copy()
y = data["Energy"]
X_train, X_rem, y_train, y_rem = train_test_split(X,y, train_size=train_size_percentage)


print(len(X_train))
